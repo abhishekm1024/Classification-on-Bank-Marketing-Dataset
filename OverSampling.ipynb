{
 "cells": [
  {
   "cell_type": "markdown",
   "id": "f10be068",
   "metadata": {},
   "source": [
    "# Oversampling"
   ]
  },
  {
   "cell_type": "code",
   "execution_count": 53,
   "id": "64bebac0",
   "metadata": {},
   "outputs": [],
   "source": [
    "import imblearn\n",
    "from collections import Counter\n",
    "from matplotlib import pyplot as plt\n",
    "import numpy as np\n",
    "import pandas as pd\n",
    "from sklearn.tree import DecisionTreeClassifier\n",
    "from imblearn.over_sampling import SMOTE, BorderlineSMOTE, SVMSMOTE, ADASYN\n",
    "from sklearn.naive_bayes import GaussianNB\n",
    "from sklearn.ensemble import RandomForestClassifier\n",
    "from sklearn.model_selection import train_test_split\n",
    "from sklearn.metrics import accuracy_score, confusion_matrix,precision_score,classification_report,plot_confusion_matrix\n",
    "from sklearn.metrics import plot_confusion_matrix"
   ]
  },
  {
   "cell_type": "markdown",
   "id": "1d749726",
   "metadata": {},
   "source": [
    "## Loading and Preprocessing"
   ]
  },
  {
   "cell_type": "code",
   "execution_count": 54,
   "id": "ba3006a5",
   "metadata": {},
   "outputs": [
    {
     "data": {
      "text/html": [
       "<div>\n",
       "<style scoped>\n",
       "    .dataframe tbody tr th:only-of-type {\n",
       "        vertical-align: middle;\n",
       "    }\n",
       "\n",
       "    .dataframe tbody tr th {\n",
       "        vertical-align: top;\n",
       "    }\n",
       "\n",
       "    .dataframe thead th {\n",
       "        text-align: right;\n",
       "    }\n",
       "</style>\n",
       "<table border=\"1\" class=\"dataframe\">\n",
       "  <thead>\n",
       "    <tr style=\"text-align: right;\">\n",
       "      <th></th>\n",
       "      <th>age</th>\n",
       "      <th>job</th>\n",
       "      <th>marital</th>\n",
       "      <th>education</th>\n",
       "      <th>default</th>\n",
       "      <th>housing</th>\n",
       "      <th>loan</th>\n",
       "      <th>contact</th>\n",
       "      <th>month</th>\n",
       "      <th>day_of_week</th>\n",
       "      <th>...</th>\n",
       "      <th>campaign</th>\n",
       "      <th>pdays</th>\n",
       "      <th>previous</th>\n",
       "      <th>poutcome</th>\n",
       "      <th>emp.var.rate</th>\n",
       "      <th>cons.price.idx</th>\n",
       "      <th>cons.conf.idx</th>\n",
       "      <th>euribor3m</th>\n",
       "      <th>nr.employed</th>\n",
       "      <th>y</th>\n",
       "    </tr>\n",
       "  </thead>\n",
       "  <tbody>\n",
       "    <tr>\n",
       "      <th>0</th>\n",
       "      <td>56</td>\n",
       "      <td>housemaid</td>\n",
       "      <td>married</td>\n",
       "      <td>basic.4y</td>\n",
       "      <td>no</td>\n",
       "      <td>no</td>\n",
       "      <td>no</td>\n",
       "      <td>telephone</td>\n",
       "      <td>may</td>\n",
       "      <td>mon</td>\n",
       "      <td>...</td>\n",
       "      <td>1</td>\n",
       "      <td>999</td>\n",
       "      <td>0</td>\n",
       "      <td>nonexistent</td>\n",
       "      <td>1.1</td>\n",
       "      <td>93.994</td>\n",
       "      <td>-36.4</td>\n",
       "      <td>4.857</td>\n",
       "      <td>5191.0</td>\n",
       "      <td>no</td>\n",
       "    </tr>\n",
       "    <tr>\n",
       "      <th>1</th>\n",
       "      <td>57</td>\n",
       "      <td>services</td>\n",
       "      <td>married</td>\n",
       "      <td>high.school</td>\n",
       "      <td>unknown</td>\n",
       "      <td>no</td>\n",
       "      <td>no</td>\n",
       "      <td>telephone</td>\n",
       "      <td>may</td>\n",
       "      <td>mon</td>\n",
       "      <td>...</td>\n",
       "      <td>1</td>\n",
       "      <td>999</td>\n",
       "      <td>0</td>\n",
       "      <td>nonexistent</td>\n",
       "      <td>1.1</td>\n",
       "      <td>93.994</td>\n",
       "      <td>-36.4</td>\n",
       "      <td>4.857</td>\n",
       "      <td>5191.0</td>\n",
       "      <td>no</td>\n",
       "    </tr>\n",
       "    <tr>\n",
       "      <th>2</th>\n",
       "      <td>37</td>\n",
       "      <td>services</td>\n",
       "      <td>married</td>\n",
       "      <td>high.school</td>\n",
       "      <td>no</td>\n",
       "      <td>yes</td>\n",
       "      <td>no</td>\n",
       "      <td>telephone</td>\n",
       "      <td>may</td>\n",
       "      <td>mon</td>\n",
       "      <td>...</td>\n",
       "      <td>1</td>\n",
       "      <td>999</td>\n",
       "      <td>0</td>\n",
       "      <td>nonexistent</td>\n",
       "      <td>1.1</td>\n",
       "      <td>93.994</td>\n",
       "      <td>-36.4</td>\n",
       "      <td>4.857</td>\n",
       "      <td>5191.0</td>\n",
       "      <td>no</td>\n",
       "    </tr>\n",
       "    <tr>\n",
       "      <th>3</th>\n",
       "      <td>40</td>\n",
       "      <td>admin.</td>\n",
       "      <td>married</td>\n",
       "      <td>basic.6y</td>\n",
       "      <td>no</td>\n",
       "      <td>no</td>\n",
       "      <td>no</td>\n",
       "      <td>telephone</td>\n",
       "      <td>may</td>\n",
       "      <td>mon</td>\n",
       "      <td>...</td>\n",
       "      <td>1</td>\n",
       "      <td>999</td>\n",
       "      <td>0</td>\n",
       "      <td>nonexistent</td>\n",
       "      <td>1.1</td>\n",
       "      <td>93.994</td>\n",
       "      <td>-36.4</td>\n",
       "      <td>4.857</td>\n",
       "      <td>5191.0</td>\n",
       "      <td>no</td>\n",
       "    </tr>\n",
       "    <tr>\n",
       "      <th>4</th>\n",
       "      <td>56</td>\n",
       "      <td>services</td>\n",
       "      <td>married</td>\n",
       "      <td>high.school</td>\n",
       "      <td>no</td>\n",
       "      <td>no</td>\n",
       "      <td>yes</td>\n",
       "      <td>telephone</td>\n",
       "      <td>may</td>\n",
       "      <td>mon</td>\n",
       "      <td>...</td>\n",
       "      <td>1</td>\n",
       "      <td>999</td>\n",
       "      <td>0</td>\n",
       "      <td>nonexistent</td>\n",
       "      <td>1.1</td>\n",
       "      <td>93.994</td>\n",
       "      <td>-36.4</td>\n",
       "      <td>4.857</td>\n",
       "      <td>5191.0</td>\n",
       "      <td>no</td>\n",
       "    </tr>\n",
       "  </tbody>\n",
       "</table>\n",
       "<p>5 rows × 21 columns</p>\n",
       "</div>"
      ],
      "text/plain": [
       "   age        job  marital    education  default housing loan    contact  \\\n",
       "0   56  housemaid  married     basic.4y       no      no   no  telephone   \n",
       "1   57   services  married  high.school  unknown      no   no  telephone   \n",
       "2   37   services  married  high.school       no     yes   no  telephone   \n",
       "3   40     admin.  married     basic.6y       no      no   no  telephone   \n",
       "4   56   services  married  high.school       no      no  yes  telephone   \n",
       "\n",
       "  month day_of_week  ...  campaign  pdays  previous     poutcome emp.var.rate  \\\n",
       "0   may         mon  ...         1    999         0  nonexistent          1.1   \n",
       "1   may         mon  ...         1    999         0  nonexistent          1.1   \n",
       "2   may         mon  ...         1    999         0  nonexistent          1.1   \n",
       "3   may         mon  ...         1    999         0  nonexistent          1.1   \n",
       "4   may         mon  ...         1    999         0  nonexistent          1.1   \n",
       "\n",
       "   cons.price.idx  cons.conf.idx  euribor3m  nr.employed   y  \n",
       "0          93.994          -36.4      4.857       5191.0  no  \n",
       "1          93.994          -36.4      4.857       5191.0  no  \n",
       "2          93.994          -36.4      4.857       5191.0  no  \n",
       "3          93.994          -36.4      4.857       5191.0  no  \n",
       "4          93.994          -36.4      4.857       5191.0  no  \n",
       "\n",
       "[5 rows x 21 columns]"
      ]
     },
     "execution_count": 54,
     "metadata": {},
     "output_type": "execute_result"
    }
   ],
   "source": [
    "df = pd.read_csv(\"bank-additional-full.csv\", delimiter=';')\n",
    "df.head()"
   ]
  },
  {
   "cell_type": "code",
   "execution_count": 55,
   "id": "f7d825e7",
   "metadata": {},
   "outputs": [],
   "source": [
    "cols = df.columns\n",
    "var_numerical = list(df._get_numeric_data().columns)\n",
    "var_categorical = list(set(cols) - set(var_numerical) - set('y'))"
   ]
  },
  {
   "cell_type": "code",
   "execution_count": 56,
   "id": "05130dde",
   "metadata": {},
   "outputs": [],
   "source": [
    "# Default variable and Day of week has no impact on the client subscribing for term deposit.\n",
    "df.drop([\"default\"], axis = 1, inplace=True)\n",
    "df.drop([\"day_of_week\"], axis = 1, inplace=True)\n"
   ]
  },
  {
   "cell_type": "code",
   "execution_count": 57,
   "id": "445b9b21",
   "metadata": {},
   "outputs": [],
   "source": [
    "df.drop(['emp.var.rate', 'nr.employed'], axis = 1, inplace=True)\n",
    "var_numerical = list(set(var_numerical) - set(['emp.var.rate', 'nr.employed']))"
   ]
  },
  {
   "cell_type": "code",
   "execution_count": 58,
   "id": "ca8733a6",
   "metadata": {},
   "outputs": [],
   "source": [
    "# Get the dummy variables for contact, poutcome , job, month, marital,  education\n",
    "# Let's drop the first column from  using 'drop_first = True' as first column can be derived using other columns \n",
    "\n",
    "df['job'] = df['job'].apply(lambda x: -1 if x=='unknown' or x=='unemployed' else (15 if x=='entrepreneur' else (8 if x == 'blue-collar' else ( 6 if x=='technician' or x=='services' or  x=='admin.' or x=='management' else (4 if x== 'self-employed' or x=='student' else (2 if x=='housemaid' or x=='retired' else None) )))))\n",
    "df['housing'] = df['housing'].apply(lambda x: 0 if x=='no' else (1 if x=='yes' else -1))\n",
    "df['loan'] = df['loan'].apply(lambda x: 0 if x=='no' else (1 if x=='yes' else -1))\n",
    "df['y'] = df['y'].apply(lambda x: 0 if x=='no' else (1 if x=='yes' else -1))\n",
    "df['poutcome'] = df['poutcome'].apply(lambda x: 0 if x=='failure' else (2 if x=='failure' else - 1))\n",
    "df['pdays'] = df['pdays'].apply(lambda x: 0 if x==999 else(20 if x<=10 else(6 if x<=20 else 3)))\n",
    "\n",
    "df  = pd.get_dummies(df, drop_first = True)"
   ]
  },
  {
   "cell_type": "code",
   "execution_count": 59,
   "id": "d0561bbf",
   "metadata": {},
   "outputs": [],
   "source": [
    "y = df.pop('y')"
   ]
  },
  {
   "cell_type": "code",
   "execution_count": 60,
   "id": "7b812d5e",
   "metadata": {},
   "outputs": [
    {
     "data": {
      "text/html": [
       "<div>\n",
       "<style scoped>\n",
       "    .dataframe tbody tr th:only-of-type {\n",
       "        vertical-align: middle;\n",
       "    }\n",
       "\n",
       "    .dataframe tbody tr th {\n",
       "        vertical-align: top;\n",
       "    }\n",
       "\n",
       "    .dataframe thead th {\n",
       "        text-align: right;\n",
       "    }\n",
       "</style>\n",
       "<table border=\"1\" class=\"dataframe\">\n",
       "  <thead>\n",
       "    <tr style=\"text-align: right;\">\n",
       "      <th></th>\n",
       "      <th>age</th>\n",
       "      <th>job</th>\n",
       "      <th>housing</th>\n",
       "      <th>loan</th>\n",
       "      <th>duration</th>\n",
       "      <th>campaign</th>\n",
       "      <th>pdays</th>\n",
       "      <th>previous</th>\n",
       "      <th>poutcome</th>\n",
       "      <th>cons.price.idx</th>\n",
       "      <th>...</th>\n",
       "      <th>contact_telephone</th>\n",
       "      <th>month_aug</th>\n",
       "      <th>month_dec</th>\n",
       "      <th>month_jul</th>\n",
       "      <th>month_jun</th>\n",
       "      <th>month_mar</th>\n",
       "      <th>month_may</th>\n",
       "      <th>month_nov</th>\n",
       "      <th>month_oct</th>\n",
       "      <th>month_sep</th>\n",
       "    </tr>\n",
       "  </thead>\n",
       "  <tbody>\n",
       "    <tr>\n",
       "      <th>0</th>\n",
       "      <td>56</td>\n",
       "      <td>2</td>\n",
       "      <td>0</td>\n",
       "      <td>0</td>\n",
       "      <td>261</td>\n",
       "      <td>1</td>\n",
       "      <td>0</td>\n",
       "      <td>0</td>\n",
       "      <td>-1</td>\n",
       "      <td>93.994</td>\n",
       "      <td>...</td>\n",
       "      <td>1</td>\n",
       "      <td>0</td>\n",
       "      <td>0</td>\n",
       "      <td>0</td>\n",
       "      <td>0</td>\n",
       "      <td>0</td>\n",
       "      <td>1</td>\n",
       "      <td>0</td>\n",
       "      <td>0</td>\n",
       "      <td>0</td>\n",
       "    </tr>\n",
       "    <tr>\n",
       "      <th>1</th>\n",
       "      <td>57</td>\n",
       "      <td>6</td>\n",
       "      <td>0</td>\n",
       "      <td>0</td>\n",
       "      <td>149</td>\n",
       "      <td>1</td>\n",
       "      <td>0</td>\n",
       "      <td>0</td>\n",
       "      <td>-1</td>\n",
       "      <td>93.994</td>\n",
       "      <td>...</td>\n",
       "      <td>1</td>\n",
       "      <td>0</td>\n",
       "      <td>0</td>\n",
       "      <td>0</td>\n",
       "      <td>0</td>\n",
       "      <td>0</td>\n",
       "      <td>1</td>\n",
       "      <td>0</td>\n",
       "      <td>0</td>\n",
       "      <td>0</td>\n",
       "    </tr>\n",
       "    <tr>\n",
       "      <th>2</th>\n",
       "      <td>37</td>\n",
       "      <td>6</td>\n",
       "      <td>1</td>\n",
       "      <td>0</td>\n",
       "      <td>226</td>\n",
       "      <td>1</td>\n",
       "      <td>0</td>\n",
       "      <td>0</td>\n",
       "      <td>-1</td>\n",
       "      <td>93.994</td>\n",
       "      <td>...</td>\n",
       "      <td>1</td>\n",
       "      <td>0</td>\n",
       "      <td>0</td>\n",
       "      <td>0</td>\n",
       "      <td>0</td>\n",
       "      <td>0</td>\n",
       "      <td>1</td>\n",
       "      <td>0</td>\n",
       "      <td>0</td>\n",
       "      <td>0</td>\n",
       "    </tr>\n",
       "    <tr>\n",
       "      <th>3</th>\n",
       "      <td>40</td>\n",
       "      <td>6</td>\n",
       "      <td>0</td>\n",
       "      <td>0</td>\n",
       "      <td>151</td>\n",
       "      <td>1</td>\n",
       "      <td>0</td>\n",
       "      <td>0</td>\n",
       "      <td>-1</td>\n",
       "      <td>93.994</td>\n",
       "      <td>...</td>\n",
       "      <td>1</td>\n",
       "      <td>0</td>\n",
       "      <td>0</td>\n",
       "      <td>0</td>\n",
       "      <td>0</td>\n",
       "      <td>0</td>\n",
       "      <td>1</td>\n",
       "      <td>0</td>\n",
       "      <td>0</td>\n",
       "      <td>0</td>\n",
       "    </tr>\n",
       "    <tr>\n",
       "      <th>4</th>\n",
       "      <td>56</td>\n",
       "      <td>6</td>\n",
       "      <td>0</td>\n",
       "      <td>1</td>\n",
       "      <td>307</td>\n",
       "      <td>1</td>\n",
       "      <td>0</td>\n",
       "      <td>0</td>\n",
       "      <td>-1</td>\n",
       "      <td>93.994</td>\n",
       "      <td>...</td>\n",
       "      <td>1</td>\n",
       "      <td>0</td>\n",
       "      <td>0</td>\n",
       "      <td>0</td>\n",
       "      <td>0</td>\n",
       "      <td>0</td>\n",
       "      <td>1</td>\n",
       "      <td>0</td>\n",
       "      <td>0</td>\n",
       "      <td>0</td>\n",
       "    </tr>\n",
       "  </tbody>\n",
       "</table>\n",
       "<p>5 rows × 32 columns</p>\n",
       "</div>"
      ],
      "text/plain": [
       "   age  job  housing  loan  duration  campaign  pdays  previous  poutcome  \\\n",
       "0   56    2        0     0       261         1      0         0        -1   \n",
       "1   57    6        0     0       149         1      0         0        -1   \n",
       "2   37    6        1     0       226         1      0         0        -1   \n",
       "3   40    6        0     0       151         1      0         0        -1   \n",
       "4   56    6        0     1       307         1      0         0        -1   \n",
       "\n",
       "   cons.price.idx  ...  contact_telephone  month_aug  month_dec  month_jul  \\\n",
       "0          93.994  ...                  1          0          0          0   \n",
       "1          93.994  ...                  1          0          0          0   \n",
       "2          93.994  ...                  1          0          0          0   \n",
       "3          93.994  ...                  1          0          0          0   \n",
       "4          93.994  ...                  1          0          0          0   \n",
       "\n",
       "   month_jun  month_mar  month_may  month_nov  month_oct  month_sep  \n",
       "0          0          0          1          0          0          0  \n",
       "1          0          0          1          0          0          0  \n",
       "2          0          0          1          0          0          0  \n",
       "3          0          0          1          0          0          0  \n",
       "4          0          0          1          0          0          0  \n",
       "\n",
       "[5 rows x 32 columns]"
      ]
     },
     "execution_count": 60,
     "metadata": {},
     "output_type": "execute_result"
    }
   ],
   "source": [
    "df.head()"
   ]
  },
  {
   "cell_type": "code",
   "execution_count": 61,
   "id": "6707e222",
   "metadata": {},
   "outputs": [
    {
     "name": "stdout",
     "output_type": "stream",
     "text": [
      "Counter({0: 36548, 1: 4640})\n"
     ]
    }
   ],
   "source": [
    "counter = Counter(y)\n",
    "print(counter)"
   ]
  },
  {
   "cell_type": "markdown",
   "id": "c3b7a517",
   "metadata": {},
   "source": [
    "## SMOTE\n"
   ]
  },
  {
   "cell_type": "code",
   "execution_count": 62,
   "id": "38cced44",
   "metadata": {},
   "outputs": [],
   "source": [
    "oversample = SMOTE()\n",
    "X_s, y_s = oversample.fit_resample(df, y)"
   ]
  },
  {
   "cell_type": "code",
   "execution_count": 63,
   "id": "308d2e2c",
   "metadata": {},
   "outputs": [
    {
     "name": "stdout",
     "output_type": "stream",
     "text": [
      "Counter({0: 36548, 1: 36548})\n"
     ]
    }
   ],
   "source": [
    "cnt_1 = Counter(y_s)\n",
    "print(cnt_1)"
   ]
  },
  {
   "cell_type": "code",
   "execution_count": 64,
   "id": "44d9bff6",
   "metadata": {},
   "outputs": [],
   "source": [
    "X_train_s, X_test_s, y_train_s, y_test_s = train_test_split(X_s, y_s, test_size = 0.2, random_state = 100)"
   ]
  },
  {
   "cell_type": "code",
   "execution_count": 65,
   "id": "55db7463",
   "metadata": {},
   "outputs": [],
   "source": [
    "dtclf = DecisionTreeClassifier( max_depth=8, criterion='gini',class_weight= {0:1,1:1})\n",
    "dtclf= dtclf.fit(X_train_s,y_train_s)"
   ]
  },
  {
   "cell_type": "code",
   "execution_count": 66,
   "id": "6d8e0aa0",
   "metadata": {},
   "outputs": [
    {
     "name": "stdout",
     "output_type": "stream",
     "text": [
      "0.9224350205198358\n",
      "              precision    recall  f1-score   support\n",
      "\n",
      "           0       0.95      0.89      0.92      7290\n",
      "           1       0.90      0.96      0.93      7330\n",
      "\n",
      "    accuracy                           0.92     14620\n",
      "   macro avg       0.92      0.92      0.92     14620\n",
      "weighted avg       0.92      0.92      0.92     14620\n",
      "\n"
     ]
    }
   ],
   "source": [
    "y_pred_s = dtclf.predict(X_test_s)\n",
    "print(accuracy_score(y_test_s,y_pred_s))\n",
    "print(classification_report(y_test_s, y_pred_s))"
   ]
  },
  {
   "cell_type": "code",
   "execution_count": 67,
   "id": "3c96d4b7",
   "metadata": {},
   "outputs": [
    {
     "name": "stderr",
     "output_type": "stream",
     "text": [
      "C:\\Users\\Abhishek\\AppData\\Local\\Packages\\PythonSoftwareFoundation.Python.3.10_qbz5n2kfra8p0\\LocalCache\\local-packages\\Python310\\site-packages\\sklearn\\utils\\deprecation.py:87: FutureWarning: Function plot_confusion_matrix is deprecated; Function `plot_confusion_matrix` is deprecated in 1.0 and will be removed in 1.2. Use one of the class methods: ConfusionMatrixDisplay.from_predictions or ConfusionMatrixDisplay.from_estimator.\n",
      "  warnings.warn(msg, category=FutureWarning)\n"
     ]
    },
    {
     "data": {
      "image/png": "[encoded data removed]",
      "text/plain": [
       "<Figure size 432x288 with 2 Axes>"
      ]
     },
     "metadata": {
      "needs_background": "light"
     },
     "output_type": "display_data"
    }
   ],
   "source": [
    "plot_confusion_matrix(dtclf, X_test_s, y_test_s)\n",
    "plt.show()"
   ]
  },
  {
   "cell_type": "code",
   "execution_count": 82,
   "id": "cad1a26f",
   "metadata": {},
   "outputs": [],
   "source": [
    "nbclf = GaussianNB()\n",
    "nbclf = nbclf.fit(X_train_s, y_train_s)"
   ]
  },
  {
   "cell_type": "code",
   "execution_count": 83,
   "id": "a43e21d4",
   "metadata": {},
   "outputs": [
    {
     "name": "stdout",
     "output_type": "stream",
     "text": [
      "0.8683310533515732\n",
      "              precision    recall  f1-score   support\n",
      "\n",
      "           0       0.87      0.87      0.87      7290\n",
      "           1       0.87      0.87      0.87      7330\n",
      "\n",
      "    accuracy                           0.87     14620\n",
      "   macro avg       0.87      0.87      0.87     14620\n",
      "weighted avg       0.87      0.87      0.87     14620\n",
      "\n"
     ]
    }
   ],
   "source": [
    "y_pred_s = nbclf.predict(X_test_s)\n",
    "print(accuracy_score(y_test_s,y_pred_s))\n",
    "print(classification_report(y_test_s, y_pred_s))"
   ]
  },
  {
   "cell_type": "code",
   "execution_count": 84,
   "id": "9568706f",
   "metadata": {},
   "outputs": [
    {
     "name": "stderr",
     "output_type": "stream",
     "text": [
      "C:\\Users\\Abhishek\\AppData\\Local\\Packages\\PythonSoftwareFoundation.Python.3.10_qbz5n2kfra8p0\\LocalCache\\local-packages\\Python310\\site-packages\\sklearn\\utils\\deprecation.py:87: FutureWarning: Function plot_confusion_matrix is deprecated; Function `plot_confusion_matrix` is deprecated in 1.0 and will be removed in 1.2. Use one of the class methods: ConfusionMatrixDisplay.from_predictions or ConfusionMatrixDisplay.from_estimator.\n",
      "  warnings.warn(msg, category=FutureWarning)\n"
     ]
    },
    {
     "data": {
      "image/png": "[encoded data removed]",
      "text/plain": [
       "<Figure size 432x288 with 2 Axes>"
      ]
     },
     "metadata": {
      "needs_background": "light"
     },
     "output_type": "display_data"
    }
   ],
   "source": [
    "plot_confusion_matrix(nbclf, X_test_s, y_test_s)\n",
    "plt.show()"
   ]
  },
  {
   "cell_type": "code",
   "execution_count": 85,
   "id": "02111fe8",
   "metadata": {},
   "outputs": [],
   "source": [
    "rfclf = RandomForestClassifier(max_depth = 10, max_features= 25, n_estimators= 100,class_weight= {0:1,1:1})\n",
    "rfclf = rfclf.fit(X_train_s,y_train_s)"
   ]
  },
  {
   "cell_type": "code",
   "execution_count": 86,
   "id": "45726fce",
   "metadata": {},
   "outputs": [
    {
     "name": "stdout",
     "output_type": "stream",
     "text": [
      "0.9389192886456909\n",
      "              precision    recall  f1-score   support\n",
      "\n",
      "           0       0.96      0.91      0.94      7290\n",
      "           1       0.92      0.96      0.94      7330\n",
      "\n",
      "    accuracy                           0.94     14620\n",
      "   macro avg       0.94      0.94      0.94     14620\n",
      "weighted avg       0.94      0.94      0.94     14620\n",
      "\n"
     ]
    }
   ],
   "source": [
    "y_pred_s = rfclf.predict(X_test_s)\n",
    "print(accuracy_score(y_test_s,y_pred_s))\n",
    "print(classification_report(y_test_s, y_pred_s))"
   ]
  },
  {
   "cell_type": "code",
   "execution_count": 87,
   "id": "d17f938a",
   "metadata": {},
   "outputs": [
    {
     "name": "stderr",
     "output_type": "stream",
     "text": [
      "C:\\Users\\Abhishek\\AppData\\Local\\Packages\\PythonSoftwareFoundation.Python.3.10_qbz5n2kfra8p0\\LocalCache\\local-packages\\Python310\\site-packages\\sklearn\\utils\\deprecation.py:87: FutureWarning: Function plot_confusion_matrix is deprecated; Function `plot_confusion_matrix` is deprecated in 1.0 and will be removed in 1.2. Use one of the class methods: ConfusionMatrixDisplay.from_predictions or ConfusionMatrixDisplay.from_estimator.\n",
      "  warnings.warn(msg, category=FutureWarning)\n"
     ]
    },
    {
     "data": {
      "image/png": "[encoded data removed]",
      "text/plain": [
       "<Figure size 432x288 with 2 Axes>"
      ]
     },
     "metadata": {
      "needs_background": "light"
     },
     "output_type": "display_data"
    }
   ],
   "source": [
    "plot_confusion_matrix(rfclf, X_test_s, y_test_s)\n",
    "plt.show()"
   ]
  },
  {
   "cell_type": "markdown",
   "id": "51f6fa1e",
   "metadata": {},
   "source": [
    "## BorderlineSMOTE"
   ]
  },
  {
   "cell_type": "code",
   "execution_count": 68,
   "id": "f3195d99",
   "metadata": {},
   "outputs": [],
   "source": [
    "oversample_bs = BorderlineSMOTE()\n",
    "X_bs, y_bs = oversample_bs.fit_resample(df, y)"
   ]
  },
  {
   "cell_type": "code",
   "execution_count": 69,
   "id": "c2b81af5",
   "metadata": {},
   "outputs": [
    {
     "name": "stdout",
     "output_type": "stream",
     "text": [
      "Counter({0: 36548, 1: 36548})\n"
     ]
    }
   ],
   "source": [
    "cnt_3 = Counter(y_bs)\n",
    "print(cnt_3)"
   ]
  },
  {
   "cell_type": "code",
   "execution_count": 70,
   "id": "62b7af8b",
   "metadata": {},
   "outputs": [],
   "source": [
    "X_train_bs, X_test_bs, y_train_bs, y_test_bs = train_test_split(X_bs, y_bs, test_size = 0.2, random_state = 100)"
   ]
  },
  {
   "cell_type": "code",
   "execution_count": 71,
   "id": "74ecc697",
   "metadata": {},
   "outputs": [],
   "source": [
    "dtclf = DecisionTreeClassifier( max_depth=8, criterion='gini',class_weight= {0:1,1:1})\n",
    "dtclf= dtclf.fit(X_train_bs,y_train_bs)"
   ]
  },
  {
   "cell_type": "code",
   "execution_count": 72,
   "id": "9bc76769",
   "metadata": {},
   "outputs": [
    {
     "name": "stdout",
     "output_type": "stream",
     "text": [
      "0.918467852257182\n",
      "              precision    recall  f1-score   support\n",
      "\n",
      "           0       0.96      0.88      0.91      7290\n",
      "           1       0.89      0.96      0.92      7330\n",
      "\n",
      "    accuracy                           0.92     14620\n",
      "   macro avg       0.92      0.92      0.92     14620\n",
      "weighted avg       0.92      0.92      0.92     14620\n",
      "\n"
     ]
    }
   ],
   "source": [
    "y_pred_bs = dtclf.predict(X_test_bs)\n",
    "print(accuracy_score(y_test_bs,y_pred_bs))\n",
    "print(classification_report(y_test_bs, y_pred_bs))"
   ]
  },
  {
   "cell_type": "code",
   "execution_count": 110,
   "id": "99cc6917",
   "metadata": {},
   "outputs": [
    {
     "name": "stderr",
     "output_type": "stream",
     "text": [
      "C:\\Users\\Abhishek\\AppData\\Local\\Packages\\PythonSoftwareFoundation.Python.3.10_qbz5n2kfra8p0\\LocalCache\\local-packages\\Python310\\site-packages\\sklearn\\utils\\deprecation.py:87: FutureWarning: Function plot_confusion_matrix is deprecated; Function `plot_confusion_matrix` is deprecated in 1.0 and will be removed in 1.2. Use one of the class methods: ConfusionMatrixDisplay.from_predictions or ConfusionMatrixDisplay.from_estimator.\n",
      "  warnings.warn(msg, category=FutureWarning)\n"
     ]
    },
    {
     "data": {
      "image/png": "[encoded data removed]",
      "text/plain": [
       "<Figure size 432x288 with 2 Axes>"
      ]
     },
     "metadata": {
      "needs_background": "light"
     },
     "output_type": "display_data"
    }
   ],
   "source": [
    "plot_confusion_matrix(dtclf, X_test_bs, y_test_bs)\n",
    "plt.show()"
   ]
  },
  {
   "cell_type": "code",
   "execution_count": 104,
   "id": "fa7699ec",
   "metadata": {},
   "outputs": [],
   "source": [
    "rfclf = RandomForestClassifier(max_depth = 10, max_features= 25, n_estimators= 100,class_weight= {0:1,1:1})\n",
    "rfclf = rfclf.fit(X_train_bs, y_train_bs)"
   ]
  },
  {
   "cell_type": "code",
   "execution_count": 105,
   "id": "18f6a9ec",
   "metadata": {},
   "outputs": [
    {
     "name": "stdout",
     "output_type": "stream",
     "text": [
      "0.9415184678522572\n",
      "              precision    recall  f1-score   support\n",
      "\n",
      "           0       0.97      0.91      0.94      7290\n",
      "           1       0.92      0.97      0.94      7330\n",
      "\n",
      "    accuracy                           0.94     14620\n",
      "   macro avg       0.94      0.94      0.94     14620\n",
      "weighted avg       0.94      0.94      0.94     14620\n",
      "\n"
     ]
    }
   ],
   "source": [
    "y_pred_bs = rfclf.predict(X_test_bs)\n",
    "print(accuracy_score(y_test_bs,y_pred_bs))\n",
    "print(classification_report(y_test_bs, y_pred_bs))"
   ]
  },
  {
   "cell_type": "code",
   "execution_count": 109,
   "id": "197dcfb2",
   "metadata": {},
   "outputs": [
    {
     "name": "stderr",
     "output_type": "stream",
     "text": [
      "C:\\Users\\Abhishek\\AppData\\Local\\Packages\\PythonSoftwareFoundation.Python.3.10_qbz5n2kfra8p0\\LocalCache\\local-packages\\Python310\\site-packages\\sklearn\\utils\\deprecation.py:87: FutureWarning: Function plot_confusion_matrix is deprecated; Function `plot_confusion_matrix` is deprecated in 1.0 and will be removed in 1.2. Use one of the class methods: ConfusionMatrixDisplay.from_predictions or ConfusionMatrixDisplay.from_estimator.\n",
      "  warnings.warn(msg, category=FutureWarning)\n"
     ]
    },
    {
     "data": {
      "image/png": "[encoded data removed]",
      "text/plain": [
       "<Figure size 432x288 with 2 Axes>"
      ]
     },
     "metadata": {
      "needs_background": "light"
     },
     "output_type": "display_data"
    }
   ],
   "source": [
    "plot_confusion_matrix(rfclf, X_test_bs, y_test_bs)\n",
    "plt.show()"
   ]
  },
  {
   "cell_type": "code",
   "execution_count": 106,
   "id": "3a27f83f",
   "metadata": {},
   "outputs": [],
   "source": [
    "nbclf = GaussianNB()\n",
    "nbclf = nbclf.fit(X_train_bs, y_train_bs)"
   ]
  },
  {
   "cell_type": "code",
   "execution_count": 107,
   "id": "a6301431",
   "metadata": {},
   "outputs": [
    {
     "name": "stdout",
     "output_type": "stream",
     "text": [
      "0.8646374829001368\n",
      "              precision    recall  f1-score   support\n",
      "\n",
      "           0       0.87      0.85      0.86      7290\n",
      "           1       0.86      0.88      0.87      7330\n",
      "\n",
      "    accuracy                           0.86     14620\n",
      "   macro avg       0.86      0.86      0.86     14620\n",
      "weighted avg       0.86      0.86      0.86     14620\n",
      "\n"
     ]
    }
   ],
   "source": [
    "y_pred_bs = nbclf.predict(X_test_bs)\n",
    "print(accuracy_score(y_test_bs,y_pred_bs))\n",
    "print(classification_report(y_test_bs, y_pred_bs))"
   ]
  },
  {
   "cell_type": "code",
   "execution_count": 108,
   "id": "cbc50d66",
   "metadata": {},
   "outputs": [
    {
     "name": "stderr",
     "output_type": "stream",
     "text": [
      "C:\\Users\\Abhishek\\AppData\\Local\\Packages\\PythonSoftwareFoundation.Python.3.10_qbz5n2kfra8p0\\LocalCache\\local-packages\\Python310\\site-packages\\sklearn\\utils\\deprecation.py:87: FutureWarning: Function plot_confusion_matrix is deprecated; Function `plot_confusion_matrix` is deprecated in 1.0 and will be removed in 1.2. Use one of the class methods: ConfusionMatrixDisplay.from_predictions or ConfusionMatrixDisplay.from_estimator.\n",
      "  warnings.warn(msg, category=FutureWarning)\n"
     ]
    },
    {
     "data": {
      "image/png": "[encoded data removed]",
      "text/plain": [
       "<Figure size 432x288 with 2 Axes>"
      ]
     },
     "metadata": {
      "needs_background": "light"
     },
     "output_type": "display_data"
    }
   ],
   "source": [
    "plot_confusion_matrix(nbclf, X_test_bs, y_test_bs)\n",
    "plt.show()"
   ]
  },
  {
   "cell_type": "markdown",
   "id": "6b57ee2f",
   "metadata": {},
   "source": [
    "## SVMSMOTE"
   ]
  },
  {
   "cell_type": "code",
   "execution_count": 73,
   "id": "82dd6524",
   "metadata": {},
   "outputs": [],
   "source": [
    "oversample_ss = SVMSMOTE()\n",
    "X_ss, y_ss = oversample_ss.fit_resample(df, y)"
   ]
  },
  {
   "cell_type": "code",
   "execution_count": 74,
   "id": "43b41386",
   "metadata": {},
   "outputs": [
    {
     "name": "stdout",
     "output_type": "stream",
     "text": [
      "Counter({0: 36548, 1: 36548})\n"
     ]
    }
   ],
   "source": [
    "cnt_4 = Counter(y_ss)\n",
    "print(cnt_4)"
   ]
  },
  {
   "cell_type": "code",
   "execution_count": 75,
   "id": "aba9e09f",
   "metadata": {},
   "outputs": [],
   "source": [
    "X_train_ss, X_test_ss, y_train_ss, y_test_ss = train_test_split(X_ss, y_ss, test_size = 0.2, random_state = 100)"
   ]
  },
  {
   "cell_type": "code",
   "execution_count": 45,
   "id": "57932493",
   "metadata": {},
   "outputs": [],
   "source": [
    "dtclf = DecisionTreeClassifier( max_depth=8, criterion='gini',class_weight= {0:1,1:1})\n",
    "dtclf= dtclf.fit(X_train_ss, y_train_ss)"
   ]
  },
  {
   "cell_type": "code",
   "execution_count": 76,
   "id": "51019bde",
   "metadata": {},
   "outputs": [
    {
     "name": "stdout",
     "output_type": "stream",
     "text": [
      "0.9018467852257182\n",
      "              precision    recall  f1-score   support\n",
      "\n",
      "           0       0.92      0.88      0.90      7290\n",
      "           1       0.88      0.93      0.90      7330\n",
      "\n",
      "    accuracy                           0.90     14620\n",
      "   macro avg       0.90      0.90      0.90     14620\n",
      "weighted avg       0.90      0.90      0.90     14620\n",
      "\n"
     ]
    }
   ],
   "source": [
    "y_pred_ss = dtclf.predict(X_test_ss)\n",
    "print(accuracy_score(y_test_ss, y_pred_ss))\n",
    "print(classification_report(y_test_ss, y_pred_ss))"
   ]
  },
  {
   "cell_type": "code",
   "execution_count": 93,
   "id": "26ffd8c4",
   "metadata": {},
   "outputs": [
    {
     "name": "stderr",
     "output_type": "stream",
     "text": [
      "C:\\Users\\Abhishek\\AppData\\Local\\Packages\\PythonSoftwareFoundation.Python.3.10_qbz5n2kfra8p0\\LocalCache\\local-packages\\Python310\\site-packages\\sklearn\\utils\\deprecation.py:87: FutureWarning: Function plot_confusion_matrix is deprecated; Function `plot_confusion_matrix` is deprecated in 1.0 and will be removed in 1.2. Use one of the class methods: ConfusionMatrixDisplay.from_predictions or ConfusionMatrixDisplay.from_estimator.\n",
      "  warnings.warn(msg, category=FutureWarning)\n"
     ]
    },
    {
     "data": {
      "image/png": "[encoded data removed]",
      "text/plain": [
       "<Figure size 432x288 with 2 Axes>"
      ]
     },
     "metadata": {
      "needs_background": "light"
     },
     "output_type": "display_data"
    }
   ],
   "source": [
    "plot_confusion_matrix(dtclf, X_test_ss, y_test_ss)\n",
    "plt.show()"
   ]
  },
  {
   "cell_type": "code",
   "execution_count": 88,
   "id": "b012aa9a",
   "metadata": {},
   "outputs": [],
   "source": [
    "rfclf = RandomForestClassifier(max_depth = 10, max_features= 25, n_estimators= 100,class_weight= {0:1,1:1})\n",
    "rfclf = rfclf.fit(X_train_ss, y_train_ss)"
   ]
  },
  {
   "cell_type": "code",
   "execution_count": 90,
   "id": "85db0ed4",
   "metadata": {},
   "outputs": [
    {
     "name": "stdout",
     "output_type": "stream",
     "text": [
      "0.9399452804377565\n",
      "              precision    recall  f1-score   support\n",
      "\n",
      "           0       0.97      0.91      0.94      7290\n",
      "           1       0.92      0.97      0.94      7330\n",
      "\n",
      "    accuracy                           0.94     14620\n",
      "   macro avg       0.94      0.94      0.94     14620\n",
      "weighted avg       0.94      0.94      0.94     14620\n",
      "\n"
     ]
    }
   ],
   "source": [
    "y_pred_ss = rfclf.predict(X_test_ss)\n",
    "print(accuracy_score(y_test_ss, y_pred_ss))\n",
    "print(classification_report(y_test_ss, y_pred_ss))"
   ]
  },
  {
   "cell_type": "code",
   "execution_count": 92,
   "id": "6c7f29b2",
   "metadata": {},
   "outputs": [
    {
     "name": "stderr",
     "output_type": "stream",
     "text": [
      "C:\\Users\\Abhishek\\AppData\\Local\\Packages\\PythonSoftwareFoundation.Python.3.10_qbz5n2kfra8p0\\LocalCache\\local-packages\\Python310\\site-packages\\sklearn\\utils\\deprecation.py:87: FutureWarning: Function plot_confusion_matrix is deprecated; Function `plot_confusion_matrix` is deprecated in 1.0 and will be removed in 1.2. Use one of the class methods: ConfusionMatrixDisplay.from_predictions or ConfusionMatrixDisplay.from_estimator.\n",
      "  warnings.warn(msg, category=FutureWarning)\n"
     ]
    },
    {
     "data": {
      "image/png": "[encoded data removed]",
      "text/plain": [
       "<Figure size 432x288 with 2 Axes>"
      ]
     },
     "metadata": {
      "needs_background": "light"
     },
     "output_type": "display_data"
    }
   ],
   "source": [
    "plot_confusion_matrix(rfclf, X_test_ss, y_test_ss)\n",
    "plt.show()"
   ]
  },
  {
   "cell_type": "code",
   "execution_count": 94,
   "id": "d9ee5789",
   "metadata": {},
   "outputs": [],
   "source": [
    "nbclf = GaussianNB()\n",
    "nbclf = nbclf.fit(X_train_ss, y_train_ss)"
   ]
  },
  {
   "cell_type": "code",
   "execution_count": 95,
   "id": "3031aeec",
   "metadata": {},
   "outputs": [
    {
     "name": "stdout",
     "output_type": "stream",
     "text": [
      "0.8253077975376197\n",
      "              precision    recall  f1-score   support\n",
      "\n",
      "           0       0.79      0.89      0.84      7290\n",
      "           1       0.87      0.76      0.81      7330\n",
      "\n",
      "    accuracy                           0.83     14620\n",
      "   macro avg       0.83      0.83      0.82     14620\n",
      "weighted avg       0.83      0.83      0.82     14620\n",
      "\n"
     ]
    }
   ],
   "source": [
    "y_pred_ss = nbclf.predict(X_test_ss)\n",
    "print(accuracy_score(y_test_ss, y_pred_ss))\n",
    "print(classification_report(y_test_ss, y_pred_ss))"
   ]
  },
  {
   "cell_type": "code",
   "execution_count": 96,
   "id": "181a1797",
   "metadata": {},
   "outputs": [
    {
     "name": "stderr",
     "output_type": "stream",
     "text": [
      "C:\\Users\\Abhishek\\AppData\\Local\\Packages\\PythonSoftwareFoundation.Python.3.10_qbz5n2kfra8p0\\LocalCache\\local-packages\\Python310\\site-packages\\sklearn\\utils\\deprecation.py:87: FutureWarning: Function plot_confusion_matrix is deprecated; Function `plot_confusion_matrix` is deprecated in 1.0 and will be removed in 1.2. Use one of the class methods: ConfusionMatrixDisplay.from_predictions or ConfusionMatrixDisplay.from_estimator.\n",
      "  warnings.warn(msg, category=FutureWarning)\n"
     ]
    },
    {
     "data": {
      "image/png": "[encoded data removed]",
      "text/plain": [
       "<Figure size 432x288 with 2 Axes>"
      ]
     },
     "metadata": {
      "needs_background": "light"
     },
     "output_type": "display_data"
    }
   ],
   "source": [
    "plot_confusion_matrix(nbclf, X_test_ss, y_test_ss)\n",
    "plt.show()"
   ]
  },
  {
   "cell_type": "markdown",
   "id": "a4966220",
   "metadata": {},
   "source": [
    "## ADASYN"
   ]
  },
  {
   "cell_type": "code",
   "execution_count": 77,
   "id": "a59f17ab",
   "metadata": {},
   "outputs": [],
   "source": [
    "oversample_as = ADASYN()\n",
    "X_as, y_as = oversample_as.fit_resample(df, y)"
   ]
  },
  {
   "cell_type": "code",
   "execution_count": 78,
   "id": "85bb3f9b",
   "metadata": {},
   "outputs": [
    {
     "name": "stdout",
     "output_type": "stream",
     "text": [
      "Counter({1: 36900, 0: 36548})\n"
     ]
    }
   ],
   "source": [
    "cnt_5 = Counter(y_as)\n",
    "print(cnt_5)"
   ]
  },
  {
   "cell_type": "code",
   "execution_count": 79,
   "id": "0daa2f2e",
   "metadata": {},
   "outputs": [],
   "source": [
    "X_train_as, X_test_as, y_train_as, y_test_as = train_test_split(X_as, y_as, test_size = 0.2, random_state = 100)"
   ]
  },
  {
   "cell_type": "code",
   "execution_count": 80,
   "id": "c4b8a53b",
   "metadata": {},
   "outputs": [],
   "source": [
    "dtclf = DecisionTreeClassifier( max_depth=8, criterion='gini',class_weight= {0:1,1:1})\n",
    "dtclf= dtclf.fit(X_train_as, y_train_as)"
   ]
  },
  {
   "cell_type": "code",
   "execution_count": 81,
   "id": "dfcf3f29",
   "metadata": {},
   "outputs": [
    {
     "name": "stdout",
     "output_type": "stream",
     "text": [
      "0.9221238938053097\n",
      "              precision    recall  f1-score   support\n",
      "\n",
      "           0       0.94      0.90      0.92      7271\n",
      "           1       0.90      0.95      0.92      7419\n",
      "\n",
      "    accuracy                           0.92     14690\n",
      "   macro avg       0.92      0.92      0.92     14690\n",
      "weighted avg       0.92      0.92      0.92     14690\n",
      "\n"
     ]
    }
   ],
   "source": [
    "y_pred_as = dtclf.predict(X_test_as)\n",
    "print(accuracy_score(y_test_as, y_pred_as))\n",
    "print(classification_report(y_test_as, y_pred_as))"
   ]
  },
  {
   "cell_type": "code",
   "execution_count": 103,
   "id": "0542188f",
   "metadata": {},
   "outputs": [
    {
     "name": "stderr",
     "output_type": "stream",
     "text": [
      "C:\\Users\\Abhishek\\AppData\\Local\\Packages\\PythonSoftwareFoundation.Python.3.10_qbz5n2kfra8p0\\LocalCache\\local-packages\\Python310\\site-packages\\sklearn\\utils\\deprecation.py:87: FutureWarning: Function plot_confusion_matrix is deprecated; Function `plot_confusion_matrix` is deprecated in 1.0 and will be removed in 1.2. Use one of the class methods: ConfusionMatrixDisplay.from_predictions or ConfusionMatrixDisplay.from_estimator.\n",
      "  warnings.warn(msg, category=FutureWarning)\n"
     ]
    },
    {
     "data": {
      "image/png": "[encoded data removed]",
      "text/plain": [
       "<Figure size 432x288 with 2 Axes>"
      ]
     },
     "metadata": {
      "needs_background": "light"
     },
     "output_type": "display_data"
    }
   ],
   "source": [
    "plot_confusion_matrix(dtclf, X_test_as, y_test_as)\n",
    "plt.show()"
   ]
  },
  {
   "cell_type": "code",
   "execution_count": 97,
   "id": "e1365c47",
   "metadata": {},
   "outputs": [],
   "source": [
    "rfclf = RandomForestClassifier(max_depth = 10, max_features= 25, n_estimators= 100,class_weight= {0:1,1:1})\n",
    "rfclf = rfclf.fit(X_train_as, y_train_as)"
   ]
  },
  {
   "cell_type": "code",
   "execution_count": 98,
   "id": "f81c2c4c",
   "metadata": {},
   "outputs": [
    {
     "name": "stdout",
     "output_type": "stream",
     "text": [
      "0.9394826412525528\n",
      "              precision    recall  f1-score   support\n",
      "\n",
      "           0       0.97      0.91      0.94      7271\n",
      "           1       0.92      0.97      0.94      7419\n",
      "\n",
      "    accuracy                           0.94     14690\n",
      "   macro avg       0.94      0.94      0.94     14690\n",
      "weighted avg       0.94      0.94      0.94     14690\n",
      "\n"
     ]
    }
   ],
   "source": [
    "y_pred_as = rfclf.predict(X_test_as)\n",
    "print(accuracy_score(y_test_as, y_pred_as))\n",
    "print(classification_report(y_test_as, y_pred_as))"
   ]
  },
  {
   "cell_type": "code",
   "execution_count": 102,
   "id": "3970fcb0",
   "metadata": {},
   "outputs": [
    {
     "name": "stderr",
     "output_type": "stream",
     "text": [
      "C:\\Users\\Abhishek\\AppData\\Local\\Packages\\PythonSoftwareFoundation.Python.3.10_qbz5n2kfra8p0\\LocalCache\\local-packages\\Python310\\site-packages\\sklearn\\utils\\deprecation.py:87: FutureWarning: Function plot_confusion_matrix is deprecated; Function `plot_confusion_matrix` is deprecated in 1.0 and will be removed in 1.2. Use one of the class methods: ConfusionMatrixDisplay.from_predictions or ConfusionMatrixDisplay.from_estimator.\n",
      "  warnings.warn(msg, category=FutureWarning)\n"
     ]
    },
    {
     "data": {
      "image/png": "[encoded data removed]",
      "text/plain": [
       "<Figure size 432x288 with 2 Axes>"
      ]
     },
     "metadata": {
      "needs_background": "light"
     },
     "output_type": "display_data"
    }
   ],
   "source": [
    "plot_confusion_matrix(rfclf, X_test_as, y_test_as)\n",
    "plt.show()"
   ]
  },
  {
   "cell_type": "code",
   "execution_count": 99,
   "id": "3f1046cb",
   "metadata": {},
   "outputs": [],
   "source": [
    "nbclf = GaussianNB()\n",
    "nbclf = nbclf.fit(X_train_as, y_train_as)"
   ]
  },
  {
   "cell_type": "code",
   "execution_count": 100,
   "id": "2557ca10",
   "metadata": {},
   "outputs": [
    {
     "name": "stdout",
     "output_type": "stream",
     "text": [
      "0.8730428863172226\n",
      "              precision    recall  f1-score   support\n",
      "\n",
      "           0       0.87      0.87      0.87      7271\n",
      "           1       0.87      0.88      0.87      7419\n",
      "\n",
      "    accuracy                           0.87     14690\n",
      "   macro avg       0.87      0.87      0.87     14690\n",
      "weighted avg       0.87      0.87      0.87     14690\n",
      "\n"
     ]
    }
   ],
   "source": [
    "y_pred_as = nbclf.predict(X_test_as)\n",
    "print(accuracy_score(y_test_as, y_pred_as))\n",
    "print(classification_report(y_test_as, y_pred_as))"
   ]
  },
  {
   "cell_type": "code",
   "execution_count": 101,
   "id": "5371a22c",
   "metadata": {},
   "outputs": [
    {
     "name": "stderr",
     "output_type": "stream",
     "text": [
      "C:\\Users\\Abhishek\\AppData\\Local\\Packages\\PythonSoftwareFoundation.Python.3.10_qbz5n2kfra8p0\\LocalCache\\local-packages\\Python310\\site-packages\\sklearn\\utils\\deprecation.py:87: FutureWarning: Function plot_confusion_matrix is deprecated; Function `plot_confusion_matrix` is deprecated in 1.0 and will be removed in 1.2. Use one of the class methods: ConfusionMatrixDisplay.from_predictions or ConfusionMatrixDisplay.from_estimator.\n",
      "  warnings.warn(msg, category=FutureWarning)\n"
     ]
    },
    {
     "data": {
      "image/png": "[encoded data removed]",
      "text/plain": [
       "<Figure size 432x288 with 2 Axes>"
      ]
     },
     "metadata": {
      "needs_background": "light"
     },
     "output_type": "display_data"
    }
   ],
   "source": [
    "plot_confusion_matrix(nbclf, X_test_as, y_test_as)\n",
    "plt.show()"
   ]
  }
 ],
 "metadata": {
  "kernelspec": {
   "display_name": "Python 3 (ipykernel)",
   "language": "python",
   "name": "python3"
  },
  "language_info": {
   "codemirror_mode": {
    "name": "ipython",
    "version": 3
   },
   "file_extension": ".py",
   "mimetype": "text/x-python",
   "name": "python",
   "nbconvert_exporter": "python",
   "pygments_lexer": "ipython3",
   "version": "3.10.4"
  }
 },
 "nbformat": 4,
 "nbformat_minor": 5
}
