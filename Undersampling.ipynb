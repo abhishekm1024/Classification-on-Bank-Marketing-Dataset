{
 "cells": [
  {
   "cell_type": "markdown",
   "id": "30430edb",
   "metadata": {},
   "source": [
    "# Undersampling"
   ]
  },
  {
   "cell_type": "code",
   "execution_count": 2,
   "id": "6947407c",
   "metadata": {},
   "outputs": [],
   "source": [
    "from sklearn.cluster import KMeans\n",
    "import matplotlib.pyplot as plt\n",
    "import imblearn\n",
    "from collections import Counter\n",
    "from sklearn.datasets import make_classification\n",
    "from imblearn.under_sampling import OneSidedSelection, NearMiss, CondensedNearestNeighbour, EditedNearestNeighbours\n",
    "import numpy as np\n",
    "import pandas as pd\n",
    "from sklearn.model_selection import train_test_split\n",
    "from imblearn.under_sampling import TomekLinks"
   ]
  },
  {
   "cell_type": "code",
   "execution_count": 3,
   "id": "04bbeb5f",
   "metadata": {},
   "outputs": [],
   "source": [
    "from sklearn.tree import DecisionTreeClassifier\n",
    "from sklearn.naive_bayes import GaussianNB\n",
    "from sklearn.metrics import accuracy_score, confusion_matrix,precision_score,classification_report,plot_confusion_matrix\n",
    "from sklearn.ensemble import RandomForestClassifier\n",
    "from sklearn.metrics import plot_confusion_matrix"
   ]
  },
  {
   "cell_type": "markdown",
   "id": "4fe2f0d3",
   "metadata": {},
   "source": [
    "## Pre-Processing"
   ]
  },
  {
   "cell_type": "code",
   "execution_count": 4,
   "id": "ba3006a5",
   "metadata": {},
   "outputs": [
    {
     "data": {
      "text/html": [
       "<div>\n",
       "<style scoped>\n",
       "    .dataframe tbody tr th:only-of-type {\n",
       "        vertical-align: middle;\n",
       "    }\n",
       "\n",
       "    .dataframe tbody tr th {\n",
       "        vertical-align: top;\n",
       "    }\n",
       "\n",
       "    .dataframe thead th {\n",
       "        text-align: right;\n",
       "    }\n",
       "</style>\n",
       "<table border=\"1\" class=\"dataframe\">\n",
       "  <thead>\n",
       "    <tr style=\"text-align: right;\">\n",
       "      <th></th>\n",
       "      <th>age</th>\n",
       "      <th>job</th>\n",
       "      <th>marital</th>\n",
       "      <th>education</th>\n",
       "      <th>default</th>\n",
       "      <th>housing</th>\n",
       "      <th>loan</th>\n",
       "      <th>contact</th>\n",
       "      <th>month</th>\n",
       "      <th>day_of_week</th>\n",
       "      <th>...</th>\n",
       "      <th>campaign</th>\n",
       "      <th>pdays</th>\n",
       "      <th>previous</th>\n",
       "      <th>poutcome</th>\n",
       "      <th>emp.var.rate</th>\n",
       "      <th>cons.price.idx</th>\n",
       "      <th>cons.conf.idx</th>\n",
       "      <th>euribor3m</th>\n",
       "      <th>nr.employed</th>\n",
       "      <th>y</th>\n",
       "    </tr>\n",
       "  </thead>\n",
       "  <tbody>\n",
       "    <tr>\n",
       "      <th>0</th>\n",
       "      <td>56</td>\n",
       "      <td>housemaid</td>\n",
       "      <td>married</td>\n",
       "      <td>basic.4y</td>\n",
       "      <td>no</td>\n",
       "      <td>no</td>\n",
       "      <td>no</td>\n",
       "      <td>telephone</td>\n",
       "      <td>may</td>\n",
       "      <td>mon</td>\n",
       "      <td>...</td>\n",
       "      <td>1</td>\n",
       "      <td>999</td>\n",
       "      <td>0</td>\n",
       "      <td>nonexistent</td>\n",
       "      <td>1.1</td>\n",
       "      <td>93.994</td>\n",
       "      <td>-36.4</td>\n",
       "      <td>4.857</td>\n",
       "      <td>5191.0</td>\n",
       "      <td>no</td>\n",
       "    </tr>\n",
       "    <tr>\n",
       "      <th>1</th>\n",
       "      <td>57</td>\n",
       "      <td>services</td>\n",
       "      <td>married</td>\n",
       "      <td>high.school</td>\n",
       "      <td>unknown</td>\n",
       "      <td>no</td>\n",
       "      <td>no</td>\n",
       "      <td>telephone</td>\n",
       "      <td>may</td>\n",
       "      <td>mon</td>\n",
       "      <td>...</td>\n",
       "      <td>1</td>\n",
       "      <td>999</td>\n",
       "      <td>0</td>\n",
       "      <td>nonexistent</td>\n",
       "      <td>1.1</td>\n",
       "      <td>93.994</td>\n",
       "      <td>-36.4</td>\n",
       "      <td>4.857</td>\n",
       "      <td>5191.0</td>\n",
       "      <td>no</td>\n",
       "    </tr>\n",
       "    <tr>\n",
       "      <th>2</th>\n",
       "      <td>37</td>\n",
       "      <td>services</td>\n",
       "      <td>married</td>\n",
       "      <td>high.school</td>\n",
       "      <td>no</td>\n",
       "      <td>yes</td>\n",
       "      <td>no</td>\n",
       "      <td>telephone</td>\n",
       "      <td>may</td>\n",
       "      <td>mon</td>\n",
       "      <td>...</td>\n",
       "      <td>1</td>\n",
       "      <td>999</td>\n",
       "      <td>0</td>\n",
       "      <td>nonexistent</td>\n",
       "      <td>1.1</td>\n",
       "      <td>93.994</td>\n",
       "      <td>-36.4</td>\n",
       "      <td>4.857</td>\n",
       "      <td>5191.0</td>\n",
       "      <td>no</td>\n",
       "    </tr>\n",
       "    <tr>\n",
       "      <th>3</th>\n",
       "      <td>40</td>\n",
       "      <td>admin.</td>\n",
       "      <td>married</td>\n",
       "      <td>basic.6y</td>\n",
       "      <td>no</td>\n",
       "      <td>no</td>\n",
       "      <td>no</td>\n",
       "      <td>telephone</td>\n",
       "      <td>may</td>\n",
       "      <td>mon</td>\n",
       "      <td>...</td>\n",
       "      <td>1</td>\n",
       "      <td>999</td>\n",
       "      <td>0</td>\n",
       "      <td>nonexistent</td>\n",
       "      <td>1.1</td>\n",
       "      <td>93.994</td>\n",
       "      <td>-36.4</td>\n",
       "      <td>4.857</td>\n",
       "      <td>5191.0</td>\n",
       "      <td>no</td>\n",
       "    </tr>\n",
       "    <tr>\n",
       "      <th>4</th>\n",
       "      <td>56</td>\n",
       "      <td>services</td>\n",
       "      <td>married</td>\n",
       "      <td>high.school</td>\n",
       "      <td>no</td>\n",
       "      <td>no</td>\n",
       "      <td>yes</td>\n",
       "      <td>telephone</td>\n",
       "      <td>may</td>\n",
       "      <td>mon</td>\n",
       "      <td>...</td>\n",
       "      <td>1</td>\n",
       "      <td>999</td>\n",
       "      <td>0</td>\n",
       "      <td>nonexistent</td>\n",
       "      <td>1.1</td>\n",
       "      <td>93.994</td>\n",
       "      <td>-36.4</td>\n",
       "      <td>4.857</td>\n",
       "      <td>5191.0</td>\n",
       "      <td>no</td>\n",
       "    </tr>\n",
       "  </tbody>\n",
       "</table>\n",
       "<p>5 rows × 21 columns</p>\n",
       "</div>"
      ],
      "text/plain": [
       "   age        job  marital    education  default housing loan    contact  \\\n",
       "0   56  housemaid  married     basic.4y       no      no   no  telephone   \n",
       "1   57   services  married  high.school  unknown      no   no  telephone   \n",
       "2   37   services  married  high.school       no     yes   no  telephone   \n",
       "3   40     admin.  married     basic.6y       no      no   no  telephone   \n",
       "4   56   services  married  high.school       no      no  yes  telephone   \n",
       "\n",
       "  month day_of_week  ...  campaign  pdays  previous     poutcome emp.var.rate  \\\n",
       "0   may         mon  ...         1    999         0  nonexistent          1.1   \n",
       "1   may         mon  ...         1    999         0  nonexistent          1.1   \n",
       "2   may         mon  ...         1    999         0  nonexistent          1.1   \n",
       "3   may         mon  ...         1    999         0  nonexistent          1.1   \n",
       "4   may         mon  ...         1    999         0  nonexistent          1.1   \n",
       "\n",
       "   cons.price.idx  cons.conf.idx  euribor3m  nr.employed   y  \n",
       "0          93.994          -36.4      4.857       5191.0  no  \n",
       "1          93.994          -36.4      4.857       5191.0  no  \n",
       "2          93.994          -36.4      4.857       5191.0  no  \n",
       "3          93.994          -36.4      4.857       5191.0  no  \n",
       "4          93.994          -36.4      4.857       5191.0  no  \n",
       "\n",
       "[5 rows x 21 columns]"
      ]
     },
     "execution_count": 4,
     "metadata": {},
     "output_type": "execute_result"
    }
   ],
   "source": [
    "df = pd.read_csv(\"bank-additional-full.csv\", delimiter=';')\n",
    "df.head()"
   ]
  },
  {
   "cell_type": "code",
   "execution_count": 5,
   "id": "f7d825e7",
   "metadata": {},
   "outputs": [],
   "source": [
    "cols = df.columns\n",
    "var_numerical = list(df._get_numeric_data().columns)\n",
    "var_categorical = list(set(cols) - set(var_numerical) - set('y'))"
   ]
  },
  {
   "cell_type": "code",
   "execution_count": 6,
   "id": "05130dde",
   "metadata": {},
   "outputs": [],
   "source": [
    "# Default variable and Day of week has no impact on the client subscribing for term deposit.\n",
    "df.drop([\"default\"], axis = 1, inplace=True)\n",
    "df.drop([\"day_of_week\"], axis = 1, inplace=True)\n"
   ]
  },
  {
   "cell_type": "code",
   "execution_count": 7,
   "id": "445b9b21",
   "metadata": {},
   "outputs": [],
   "source": [
    "df.drop(['emp.var.rate', 'nr.employed'], axis = 1, inplace=True)\n",
    "var_numerical = list(set(var_numerical) - set(['emp.var.rate', 'nr.employed']))"
   ]
  },
  {
   "cell_type": "code",
   "execution_count": 8,
   "id": "ca8733a6",
   "metadata": {},
   "outputs": [],
   "source": [
    "# Get the dummy variables for contact, poutcome , job, month, marital,  education\n",
    "# Let's drop the first column from  using 'drop_first = True' as first column can be derived using other columns \n",
    "\n",
    "df['job'] = df['job'].apply(lambda x: -1 if x=='unknown' or x=='unemployed' else (15 if x=='entrepreneur' else (8 if x == 'blue-collar' else ( 6 if x=='technician' or x=='services' or  x=='admin.' or x=='management' else (4 if x== 'self-employed' or x=='student' else (2 if x=='housemaid' or x=='retired' else None) )))))\n",
    "df['housing'] = df['housing'].apply(lambda x: 0 if x=='no' else (1 if x=='yes' else -1))\n",
    "df['loan'] = df['loan'].apply(lambda x: 0 if x=='no' else (1 if x=='yes' else -1))\n",
    "df['y'] = df['y'].apply(lambda x: 0 if x=='no' else (1 if x=='yes' else -1))\n",
    "df['poutcome'] = df['poutcome'].apply(lambda x: 0 if x=='failure' else (2 if x=='failure' else - 1))\n",
    "df['pdays'] = df['pdays'].apply(lambda x: 0 if x==999 else(20 if x<=10 else(6 if x<=20 else 3)))\n",
    "\n",
    "df  = pd.get_dummies(df, drop_first = True)"
   ]
  },
  {
   "cell_type": "code",
   "execution_count": 11,
   "id": "d0561bbf",
   "metadata": {},
   "outputs": [],
   "source": [
    "y = df.pop('y')"
   ]
  },
  {
   "cell_type": "code",
   "execution_count": 12,
   "id": "701c7a96",
   "metadata": {},
   "outputs": [
    {
     "name": "stdout",
     "output_type": "stream",
     "text": [
      "Counter({0: 36548, 1: 4640})\n"
     ]
    }
   ],
   "source": [
    "counter = Counter(y)\n",
    "print(counter)"
   ]
  },
  {
   "cell_type": "code",
   "execution_count": 10,
   "id": "0d8346ae",
   "metadata": {},
   "outputs": [
    {
     "data": {
      "text/html": [
       "<div>\n",
       "<style scoped>\n",
       "    .dataframe tbody tr th:only-of-type {\n",
       "        vertical-align: middle;\n",
       "    }\n",
       "\n",
       "    .dataframe tbody tr th {\n",
       "        vertical-align: top;\n",
       "    }\n",
       "\n",
       "    .dataframe thead th {\n",
       "        text-align: right;\n",
       "    }\n",
       "</style>\n",
       "<table border=\"1\" class=\"dataframe\">\n",
       "  <thead>\n",
       "    <tr style=\"text-align: right;\">\n",
       "      <th></th>\n",
       "      <th>age</th>\n",
       "      <th>job</th>\n",
       "      <th>housing</th>\n",
       "      <th>loan</th>\n",
       "      <th>duration</th>\n",
       "      <th>campaign</th>\n",
       "      <th>pdays</th>\n",
       "      <th>previous</th>\n",
       "      <th>poutcome</th>\n",
       "      <th>cons.price.idx</th>\n",
       "      <th>...</th>\n",
       "      <th>contact_telephone</th>\n",
       "      <th>month_aug</th>\n",
       "      <th>month_dec</th>\n",
       "      <th>month_jul</th>\n",
       "      <th>month_jun</th>\n",
       "      <th>month_mar</th>\n",
       "      <th>month_may</th>\n",
       "      <th>month_nov</th>\n",
       "      <th>month_oct</th>\n",
       "      <th>month_sep</th>\n",
       "    </tr>\n",
       "  </thead>\n",
       "  <tbody>\n",
       "    <tr>\n",
       "      <th>0</th>\n",
       "      <td>56</td>\n",
       "      <td>2</td>\n",
       "      <td>0</td>\n",
       "      <td>0</td>\n",
       "      <td>261</td>\n",
       "      <td>1</td>\n",
       "      <td>0</td>\n",
       "      <td>0</td>\n",
       "      <td>-1</td>\n",
       "      <td>93.994</td>\n",
       "      <td>...</td>\n",
       "      <td>1</td>\n",
       "      <td>0</td>\n",
       "      <td>0</td>\n",
       "      <td>0</td>\n",
       "      <td>0</td>\n",
       "      <td>0</td>\n",
       "      <td>1</td>\n",
       "      <td>0</td>\n",
       "      <td>0</td>\n",
       "      <td>0</td>\n",
       "    </tr>\n",
       "    <tr>\n",
       "      <th>1</th>\n",
       "      <td>57</td>\n",
       "      <td>6</td>\n",
       "      <td>0</td>\n",
       "      <td>0</td>\n",
       "      <td>149</td>\n",
       "      <td>1</td>\n",
       "      <td>0</td>\n",
       "      <td>0</td>\n",
       "      <td>-1</td>\n",
       "      <td>93.994</td>\n",
       "      <td>...</td>\n",
       "      <td>1</td>\n",
       "      <td>0</td>\n",
       "      <td>0</td>\n",
       "      <td>0</td>\n",
       "      <td>0</td>\n",
       "      <td>0</td>\n",
       "      <td>1</td>\n",
       "      <td>0</td>\n",
       "      <td>0</td>\n",
       "      <td>0</td>\n",
       "    </tr>\n",
       "    <tr>\n",
       "      <th>2</th>\n",
       "      <td>37</td>\n",
       "      <td>6</td>\n",
       "      <td>1</td>\n",
       "      <td>0</td>\n",
       "      <td>226</td>\n",
       "      <td>1</td>\n",
       "      <td>0</td>\n",
       "      <td>0</td>\n",
       "      <td>-1</td>\n",
       "      <td>93.994</td>\n",
       "      <td>...</td>\n",
       "      <td>1</td>\n",
       "      <td>0</td>\n",
       "      <td>0</td>\n",
       "      <td>0</td>\n",
       "      <td>0</td>\n",
       "      <td>0</td>\n",
       "      <td>1</td>\n",
       "      <td>0</td>\n",
       "      <td>0</td>\n",
       "      <td>0</td>\n",
       "    </tr>\n",
       "    <tr>\n",
       "      <th>3</th>\n",
       "      <td>40</td>\n",
       "      <td>6</td>\n",
       "      <td>0</td>\n",
       "      <td>0</td>\n",
       "      <td>151</td>\n",
       "      <td>1</td>\n",
       "      <td>0</td>\n",
       "      <td>0</td>\n",
       "      <td>-1</td>\n",
       "      <td>93.994</td>\n",
       "      <td>...</td>\n",
       "      <td>1</td>\n",
       "      <td>0</td>\n",
       "      <td>0</td>\n",
       "      <td>0</td>\n",
       "      <td>0</td>\n",
       "      <td>0</td>\n",
       "      <td>1</td>\n",
       "      <td>0</td>\n",
       "      <td>0</td>\n",
       "      <td>0</td>\n",
       "    </tr>\n",
       "    <tr>\n",
       "      <th>4</th>\n",
       "      <td>56</td>\n",
       "      <td>6</td>\n",
       "      <td>0</td>\n",
       "      <td>1</td>\n",
       "      <td>307</td>\n",
       "      <td>1</td>\n",
       "      <td>0</td>\n",
       "      <td>0</td>\n",
       "      <td>-1</td>\n",
       "      <td>93.994</td>\n",
       "      <td>...</td>\n",
       "      <td>1</td>\n",
       "      <td>0</td>\n",
       "      <td>0</td>\n",
       "      <td>0</td>\n",
       "      <td>0</td>\n",
       "      <td>0</td>\n",
       "      <td>1</td>\n",
       "      <td>0</td>\n",
       "      <td>0</td>\n",
       "      <td>0</td>\n",
       "    </tr>\n",
       "  </tbody>\n",
       "</table>\n",
       "<p>5 rows × 32 columns</p>\n",
       "</div>"
      ],
      "text/plain": [
       "   age  job  housing  loan  duration  campaign  pdays  previous  poutcome  \\\n",
       "0   56    2        0     0       261         1      0         0        -1   \n",
       "1   57    6        0     0       149         1      0         0        -1   \n",
       "2   37    6        1     0       226         1      0         0        -1   \n",
       "3   40    6        0     0       151         1      0         0        -1   \n",
       "4   56    6        0     1       307         1      0         0        -1   \n",
       "\n",
       "   cons.price.idx  ...  contact_telephone  month_aug  month_dec  month_jul  \\\n",
       "0          93.994  ...                  1          0          0          0   \n",
       "1          93.994  ...                  1          0          0          0   \n",
       "2          93.994  ...                  1          0          0          0   \n",
       "3          93.994  ...                  1          0          0          0   \n",
       "4          93.994  ...                  1          0          0          0   \n",
       "\n",
       "   month_jun  month_mar  month_may  month_nov  month_oct  month_sep  \n",
       "0          0          0          1          0          0          0  \n",
       "1          0          0          1          0          0          0  \n",
       "2          0          0          1          0          0          0  \n",
       "3          0          0          1          0          0          0  \n",
       "4          0          0          1          0          0          0  \n",
       "\n",
       "[5 rows x 32 columns]"
      ]
     },
     "execution_count": 10,
     "metadata": {},
     "output_type": "execute_result"
    }
   ],
   "source": [
    "df.head()"
   ]
  },
  {
   "cell_type": "markdown",
   "id": "79093fce",
   "metadata": {},
   "source": [
    "## Finding k"
   ]
  },
  {
   "cell_type": "code",
   "execution_count": 11,
   "id": "31b1c309",
   "metadata": {},
   "outputs": [
    {
     "name": "stdout",
     "output_type": "stream",
     "text": [
      "CPU times: total: 3min 28s\n",
      "Wall time: 1min 2s\n"
     ]
    }
   ],
   "source": [
    "%%time\n",
    "inertia = [] \n",
    "k = [2, 3, 4, 5, 10, 20, 30, 40, 50]\n",
    "for i in k: \n",
    "    kmeans = KMeans(n_clusters = i, init = 'k-means++', random_state = 100)\n",
    "    kmeans.fit(df) \n",
    "    inertia.append(kmeans.inertia_)"
   ]
  },
  {
   "cell_type": "code",
   "execution_count": 12,
   "id": "eede8374",
   "metadata": {},
   "outputs": [
    {
     "data": {
      "text/plain": [
       "[<matplotlib.lines.Line2D at 0x2a4ccb32cb0>]"
      ]
     },
     "execution_count": 12,
     "metadata": {},
     "output_type": "execute_result"
    },
    {
     "data": {
      "image/png": "[encoded data removed]",
      "text/plain": [
       "<Figure size 432x288 with 1 Axes>"
      ]
     },
     "metadata": {
      "needs_background": "light"
     },
     "output_type": "display_data"
    }
   ],
   "source": [
    "plt.plot(k, inertia)"
   ]
  },
  {
   "cell_type": "markdown",
   "id": "037557e8",
   "metadata": {},
   "source": [
    "## Near Miss Undersampling"
   ]
  },
  {
   "cell_type": "code",
   "execution_count": 13,
   "id": "c976a622",
   "metadata": {},
   "outputs": [],
   "source": [
    "undersample_nm = NearMiss(version=1, n_neighbors=10)"
   ]
  },
  {
   "cell_type": "code",
   "execution_count": 14,
   "id": "2581d650",
   "metadata": {},
   "outputs": [],
   "source": [
    "X_nm, y_nm = undersample_nm.fit_resample(df, y)"
   ]
  },
  {
   "cell_type": "code",
   "execution_count": 15,
   "id": "a27cefce",
   "metadata": {},
   "outputs": [
    {
     "name": "stdout",
     "output_type": "stream",
     "text": [
      "Counter({0: 4640, 1: 4640})\n"
     ]
    }
   ],
   "source": [
    "cnt_nm = Counter(y_nm)\n",
    "print(cnt_nm)"
   ]
  },
  {
   "cell_type": "code",
   "execution_count": 16,
   "id": "73558aca",
   "metadata": {},
   "outputs": [],
   "source": [
    "X_train_nm, X_test_nm, y_train_nm, y_test_nm = train_test_split(X_nm, y_nm, test_size = 0.2, random_state = 100)"
   ]
  },
  {
   "cell_type": "code",
   "execution_count": 17,
   "id": "7943b37a",
   "metadata": {},
   "outputs": [],
   "source": [
    "dtclf = DecisionTreeClassifier( max_depth=8, criterion='gini',class_weight= {0:1,1:1})\n",
    "dtclf= dtclf.fit(X_train_nm,y_train_nm)"
   ]
  },
  {
   "cell_type": "code",
   "execution_count": 18,
   "id": "e8c2e28a",
   "metadata": {},
   "outputs": [
    {
     "name": "stdout",
     "output_type": "stream",
     "text": [
      "0.8550646551724138\n",
      "              precision    recall  f1-score   support\n",
      "\n",
      "           0       0.83      0.90      0.86       931\n",
      "           1       0.89      0.81      0.85       925\n",
      "\n",
      "    accuracy                           0.86      1856\n",
      "   macro avg       0.86      0.85      0.85      1856\n",
      "weighted avg       0.86      0.86      0.85      1856\n",
      "\n"
     ]
    }
   ],
   "source": [
    "y_pred_nm = dtclf.predict(X_test_nm)\n",
    "print(accuracy_score(y_test_nm,y_pred_nm))\n",
    "print(classification_report(y_test_nm, y_pred_nm))"
   ]
  },
  {
   "cell_type": "code",
   "execution_count": 19,
   "id": "ce8a79e2",
   "metadata": {},
   "outputs": [
    {
     "name": "stderr",
     "output_type": "stream",
     "text": [
      "C:\\Users\\Abhishek\\AppData\\Local\\Packages\\PythonSoftwareFoundation.Python.3.10_qbz5n2kfra8p0\\LocalCache\\local-packages\\Python310\\site-packages\\sklearn\\utils\\deprecation.py:87: FutureWarning: Function plot_confusion_matrix is deprecated; Function `plot_confusion_matrix` is deprecated in 1.0 and will be removed in 1.2. Use one of the class methods: ConfusionMatrixDisplay.from_predictions or ConfusionMatrixDisplay.from_estimator.\n",
      "  warnings.warn(msg, category=FutureWarning)\n"
     ]
    },
    {
     "data": {
      "image/png": "[encoded data removed]",
      "text/plain": [
       "<Figure size 432x288 with 2 Axes>"
      ]
     },
     "metadata": {
      "needs_background": "light"
     },
     "output_type": "display_data"
    }
   ],
   "source": [
    "plot_confusion_matrix(dtclf, X_test_nm, y_test_nm)\n",
    "plt.show()"
   ]
  },
  {
   "cell_type": "code",
   "execution_count": 20,
   "id": "022a350a",
   "metadata": {},
   "outputs": [],
   "source": [
    "nbclf = GaussianNB()\n",
    "nbclf = nbclf.fit(X_train_nm, y_train_nm)"
   ]
  },
  {
   "cell_type": "code",
   "execution_count": 21,
   "id": "7749ec74",
   "metadata": {},
   "outputs": [
    {
     "name": "stdout",
     "output_type": "stream",
     "text": [
      "0.7893318965517241\n",
      "              precision    recall  f1-score   support\n",
      "\n",
      "           0       0.71      0.97      0.82       931\n",
      "           1       0.95      0.61      0.74       925\n",
      "\n",
      "    accuracy                           0.79      1856\n",
      "   macro avg       0.83      0.79      0.78      1856\n",
      "weighted avg       0.83      0.79      0.78      1856\n",
      "\n"
     ]
    }
   ],
   "source": [
    "y_pred_nm = nbclf.predict(X_test_nm)\n",
    "print(accuracy_score(y_test_nm,y_pred_nm))\n",
    "print(classification_report(y_test_nm, y_pred_nm))"
   ]
  },
  {
   "cell_type": "code",
   "execution_count": 22,
   "id": "a5368506",
   "metadata": {},
   "outputs": [
    {
     "name": "stderr",
     "output_type": "stream",
     "text": [
      "C:\\Users\\Abhishek\\AppData\\Local\\Packages\\PythonSoftwareFoundation.Python.3.10_qbz5n2kfra8p0\\LocalCache\\local-packages\\Python310\\site-packages\\sklearn\\utils\\deprecation.py:87: FutureWarning: Function plot_confusion_matrix is deprecated; Function `plot_confusion_matrix` is deprecated in 1.0 and will be removed in 1.2. Use one of the class methods: ConfusionMatrixDisplay.from_predictions or ConfusionMatrixDisplay.from_estimator.\n",
      "  warnings.warn(msg, category=FutureWarning)\n"
     ]
    },
    {
     "data": {
      "image/png": "[encoded data removed]",
      "text/plain": [
       "<Figure size 432x288 with 2 Axes>"
      ]
     },
     "metadata": {
      "needs_background": "light"
     },
     "output_type": "display_data"
    }
   ],
   "source": [
    "plot_confusion_matrix(nbclf, X_test_nm, y_test_nm)\n",
    "plt.show()"
   ]
  },
  {
   "cell_type": "code",
   "execution_count": 23,
   "id": "2242a6f5",
   "metadata": {},
   "outputs": [],
   "source": [
    "rfclf= RandomForestClassifier(max_depth = 10, max_features= 25, n_estimators= 100,class_weight= {0:1,1:1})\n",
    "rfclf= rfclf.fit(X_train_nm,y_train_nm)"
   ]
  },
  {
   "cell_type": "code",
   "execution_count": 24,
   "id": "f0b05af7",
   "metadata": {},
   "outputs": [
    {
     "name": "stdout",
     "output_type": "stream",
     "text": [
      "0.8739224137931034\n",
      "              precision    recall  f1-score   support\n",
      "\n",
      "           0       0.85      0.91      0.88       931\n",
      "           1       0.90      0.84      0.87       925\n",
      "\n",
      "    accuracy                           0.87      1856\n",
      "   macro avg       0.88      0.87      0.87      1856\n",
      "weighted avg       0.88      0.87      0.87      1856\n",
      "\n"
     ]
    }
   ],
   "source": [
    "y_pred_nm = rfclf.predict(X_test_nm)\n",
    "print(accuracy_score(y_test_nm,y_pred_nm))\n",
    "print(classification_report(y_test_nm, y_pred_nm))"
   ]
  },
  {
   "cell_type": "code",
   "execution_count": 25,
   "id": "f383cf84",
   "metadata": {},
   "outputs": [
    {
     "name": "stderr",
     "output_type": "stream",
     "text": [
      "C:\\Users\\Abhishek\\AppData\\Local\\Packages\\PythonSoftwareFoundation.Python.3.10_qbz5n2kfra8p0\\LocalCache\\local-packages\\Python310\\site-packages\\sklearn\\utils\\deprecation.py:87: FutureWarning: Function plot_confusion_matrix is deprecated; Function `plot_confusion_matrix` is deprecated in 1.0 and will be removed in 1.2. Use one of the class methods: ConfusionMatrixDisplay.from_predictions or ConfusionMatrixDisplay.from_estimator.\n",
      "  warnings.warn(msg, category=FutureWarning)\n"
     ]
    },
    {
     "data": {
      "image/png": "[encoded data removed]",
      "text/plain": [
       "<Figure size 432x288 with 2 Axes>"
      ]
     },
     "metadata": {
      "needs_background": "light"
     },
     "output_type": "display_data"
    }
   ],
   "source": [
    "plot_confusion_matrix(rfclf, X_test_nm, y_test_nm)\n",
    "plt.show()"
   ]
  },
  {
   "cell_type": "markdown",
   "id": "fc1aac07",
   "metadata": {},
   "source": [
    "## One Sided Selection Undersampling"
   ]
  },
  {
   "cell_type": "code",
   "execution_count": 32,
   "id": "0abf6c00",
   "metadata": {},
   "outputs": [],
   "source": [
    "undersample_oss = OneSidedSelection(n_neighbors=20, n_seeds_S=2000)"
   ]
  },
  {
   "cell_type": "code",
   "execution_count": 34,
   "id": "b9cb6a9f",
   "metadata": {},
   "outputs": [],
   "source": [
    "X_oss, y_oss = undersample_oss.fit_resample(df, y)"
   ]
  },
  {
   "cell_type": "code",
   "execution_count": 35,
   "id": "e0e6efc0",
   "metadata": {},
   "outputs": [
    {
     "name": "stdout",
     "output_type": "stream",
     "text": [
      "Counter({0: 11053, 1: 4640})\n"
     ]
    }
   ],
   "source": [
    "cnt_oss = Counter(y_oss)\n",
    "print(cnt_oss)"
   ]
  },
  {
   "cell_type": "code",
   "execution_count": 36,
   "id": "b853d91b",
   "metadata": {},
   "outputs": [],
   "source": [
    "X_train_oss, X_test_oss, y_train_oss, y_test_oss = train_test_split(X_oss, y_oss, test_size = 0.2, random_state = 100)"
   ]
  },
  {
   "cell_type": "code",
   "execution_count": 48,
   "id": "37cec673",
   "metadata": {},
   "outputs": [],
   "source": [
    "dtclf = DecisionTreeClassifier( max_depth=8, criterion='gini',class_weight= {0:1,1:2.38})\n",
    "dtclf = dtclf.fit(X_train_oss,y_train_oss)"
   ]
  },
  {
   "cell_type": "code",
   "execution_count": 49,
   "id": "44e64e7e",
   "metadata": {},
   "outputs": [
    {
     "name": "stdout",
     "output_type": "stream",
     "text": [
      "0.7948391207390889\n",
      "              precision    recall  f1-score   support\n",
      "\n",
      "           0       0.93      0.77      0.84      2232\n",
      "           1       0.60      0.85      0.70       907\n",
      "\n",
      "    accuracy                           0.79      3139\n",
      "   macro avg       0.76      0.81      0.77      3139\n",
      "weighted avg       0.83      0.79      0.80      3139\n",
      "\n"
     ]
    }
   ],
   "source": [
    "y_pred_oss = dtclf.predict(X_test_oss)\n",
    "print(accuracy_score(y_test_oss,y_pred_oss))\n",
    "print(classification_report(y_test_oss, y_pred_oss))"
   ]
  },
  {
   "cell_type": "code",
   "execution_count": 39,
   "id": "96462b50",
   "metadata": {},
   "outputs": [
    {
     "name": "stderr",
     "output_type": "stream",
     "text": [
      "C:\\Users\\Abhishek\\AppData\\Local\\Packages\\PythonSoftwareFoundation.Python.3.10_qbz5n2kfra8p0\\LocalCache\\local-packages\\Python310\\site-packages\\sklearn\\utils\\deprecation.py:87: FutureWarning: Function plot_confusion_matrix is deprecated; Function `plot_confusion_matrix` is deprecated in 1.0 and will be removed in 1.2. Use one of the class methods: ConfusionMatrixDisplay.from_predictions or ConfusionMatrixDisplay.from_estimator.\n",
      "  warnings.warn(msg, category=FutureWarning)\n"
     ]
    },
    {
     "data": {
      "image/png": "[encoded data removed]",
      "text/plain": [
       "<Figure size 432x288 with 2 Axes>"
      ]
     },
     "metadata": {
      "needs_background": "light"
     },
     "output_type": "display_data"
    }
   ],
   "source": [
    "plot_confusion_matrix(dtclf, X_test_oss, y_test_oss)\n",
    "plt.show()"
   ]
  },
  {
   "cell_type": "code",
   "execution_count": 50,
   "id": "2ad06044",
   "metadata": {},
   "outputs": [],
   "source": [
    "rfclf= RandomForestClassifier(max_depth = 10, max_features= 25, n_estimators= 100,class_weight= {0:1,1:2.38})\n",
    "rfclf= rfclf.fit(X_train_oss,y_train_oss)"
   ]
  },
  {
   "cell_type": "code",
   "execution_count": 51,
   "id": "1646b552",
   "metadata": {},
   "outputs": [
    {
     "name": "stdout",
     "output_type": "stream",
     "text": [
      "0.8212806626314113\n",
      "              precision    recall  f1-score   support\n",
      "\n",
      "           0       0.93      0.81      0.87      2232\n",
      "           1       0.65      0.84      0.73       907\n",
      "\n",
      "    accuracy                           0.82      3139\n",
      "   macro avg       0.79      0.83      0.80      3139\n",
      "weighted avg       0.85      0.82      0.83      3139\n",
      "\n"
     ]
    }
   ],
   "source": [
    "y_pred_oss = rfclf.predict(X_test_oss)\n",
    "print(accuracy_score(y_test_oss,y_pred_oss))\n",
    "print(classification_report(y_test_oss, y_pred_oss))"
   ]
  },
  {
   "cell_type": "code",
   "execution_count": 42,
   "id": "0fff00ee",
   "metadata": {},
   "outputs": [
    {
     "name": "stderr",
     "output_type": "stream",
     "text": [
      "C:\\Users\\Abhishek\\AppData\\Local\\Packages\\PythonSoftwareFoundation.Python.3.10_qbz5n2kfra8p0\\LocalCache\\local-packages\\Python310\\site-packages\\sklearn\\utils\\deprecation.py:87: FutureWarning: Function plot_confusion_matrix is deprecated; Function `plot_confusion_matrix` is deprecated in 1.0 and will be removed in 1.2. Use one of the class methods: ConfusionMatrixDisplay.from_predictions or ConfusionMatrixDisplay.from_estimator.\n",
      "  warnings.warn(msg, category=FutureWarning)\n"
     ]
    },
    {
     "data": {
      "image/png": "[encoded data removed]",
      "text/plain": [
       "<Figure size 432x288 with 2 Axes>"
      ]
     },
     "metadata": {
      "needs_background": "light"
     },
     "output_type": "display_data"
    }
   ],
   "source": [
    "plot_confusion_matrix(rfclf, X_test_oss, y_test_oss)\n",
    "plt.show()"
   ]
  },
  {
   "cell_type": "code",
   "execution_count": 43,
   "id": "2f20b4e2",
   "metadata": {},
   "outputs": [],
   "source": [
    "nbclf = GaussianNB()\n",
    "nbclf = nbclf.fit(X_train_oss, y_train_oss)\n"
   ]
  },
  {
   "cell_type": "code",
   "execution_count": 44,
   "id": "149d040a",
   "metadata": {},
   "outputs": [
    {
     "name": "stdout",
     "output_type": "stream",
     "text": [
      "0.7645747053201657\n",
      "              precision    recall  f1-score   support\n",
      "\n",
      "           0       0.79      0.92      0.85      2232\n",
      "           1       0.66      0.39      0.49       907\n",
      "\n",
      "    accuracy                           0.76      3139\n",
      "   macro avg       0.72      0.65      0.67      3139\n",
      "weighted avg       0.75      0.76      0.74      3139\n",
      "\n"
     ]
    }
   ],
   "source": [
    "y_pred_oss = nbclf.predict(X_test_oss)\n",
    "print(accuracy_score(y_test_oss,y_pred_oss))\n",
    "print(classification_report(y_test_oss, y_pred_oss))"
   ]
  },
  {
   "cell_type": "code",
   "execution_count": 45,
   "id": "f279c9aa",
   "metadata": {},
   "outputs": [
    {
     "name": "stderr",
     "output_type": "stream",
     "text": [
      "C:\\Users\\Abhishek\\AppData\\Local\\Packages\\PythonSoftwareFoundation.Python.3.10_qbz5n2kfra8p0\\LocalCache\\local-packages\\Python310\\site-packages\\sklearn\\utils\\deprecation.py:87: FutureWarning: Function plot_confusion_matrix is deprecated; Function `plot_confusion_matrix` is deprecated in 1.0 and will be removed in 1.2. Use one of the class methods: ConfusionMatrixDisplay.from_predictions or ConfusionMatrixDisplay.from_estimator.\n",
      "  warnings.warn(msg, category=FutureWarning)\n"
     ]
    },
    {
     "data": {
      "image/png": "[encoded data removed]",
      "text/plain": [
       "<Figure size 432x288 with 2 Axes>"
      ]
     },
     "metadata": {
      "needs_background": "light"
     },
     "output_type": "display_data"
    }
   ],
   "source": [
    "plot_confusion_matrix(nbclf, X_test_oss, y_test_oss)\n",
    "plt.show()"
   ]
  },
  {
   "cell_type": "markdown",
   "id": "88640800",
   "metadata": {},
   "source": [
    "## Edited Nearest Neighbors Rule"
   ]
  },
  {
   "cell_type": "code",
   "execution_count": 53,
   "id": "e7dfcb07",
   "metadata": {},
   "outputs": [],
   "source": [
    "undersample_enn = EditedNearestNeighbours(n_neighbors = 10)"
   ]
  },
  {
   "cell_type": "code",
   "execution_count": 54,
   "id": "f1a63459",
   "metadata": {},
   "outputs": [],
   "source": [
    "%%time\n",
    "X_enn, y_enn = undersample_enn.fit_resample(df, y)"
   ]
  },
  {
   "cell_type": "code",
   "execution_count": 55,
   "id": "e9c46205",
   "metadata": {},
   "outputs": [
    {
     "name": "stdout",
     "output_type": "stream",
     "text": [
      "Counter({0: 28148, 1: 4640})\n"
     ]
    }
   ],
   "source": [
    "counter = Counter(y_enn)\n",
    "print(counter)"
   ]
  },
  {
   "cell_type": "code",
   "execution_count": 56,
   "id": "18bae871",
   "metadata": {},
   "outputs": [],
   "source": [
    "X_train_enn, X_test_enn, y_train_enn, y_test_enn = train_test_split(X_enn, y_enn, test_size = 0.2, random_state = 100)"
   ]
  },
  {
   "cell_type": "code",
   "execution_count": 96,
   "id": "d9016b72",
   "metadata": {},
   "outputs": [],
   "source": [
    "dtclf= DecisionTreeClassifier( max_depth = 8, criterion='gini',class_weight= {0:1.1,1:5})\n",
    "dtclf= dtclf.fit(X_train_cnn,y_train_cnn)"
   ]
  },
  {
   "cell_type": "code",
   "execution_count": 97,
   "id": "dec1b65a",
   "metadata": {},
   "outputs": [
    {
     "name": "stdout",
     "output_type": "stream",
     "text": [
      "0.7028057334553217\n",
      "              precision    recall  f1-score   support\n",
      "\n",
      "           0       0.99      0.66      0.79      5671\n",
      "           1       0.31      0.96      0.47       887\n",
      "\n",
      "    accuracy                           0.70      6558\n",
      "   macro avg       0.65      0.81      0.63      6558\n",
      "weighted avg       0.90      0.70      0.75      6558\n",
      "\n"
     ]
    }
   ],
   "source": [
    "y_pred_enn = dtclf.predict(X_test_enn)\n",
    "print(accuracy_score(y_test_enn,y_pred_enn))\n",
    "print(classification_report(y_test_enn, y_pred_enn))"
   ]
  },
  {
   "cell_type": "code",
   "execution_count": 98,
   "id": "5af97c39",
   "metadata": {},
   "outputs": [
    {
     "name": "stderr",
     "output_type": "stream",
     "text": [
      "C:\\Users\\Abhishek\\AppData\\Local\\Packages\\PythonSoftwareFoundation.Python.3.10_qbz5n2kfra8p0\\LocalCache\\local-packages\\Python310\\site-packages\\sklearn\\utils\\deprecation.py:87: FutureWarning: Function plot_confusion_matrix is deprecated; Function `plot_confusion_matrix` is deprecated in 1.0 and will be removed in 1.2. Use one of the class methods: ConfusionMatrixDisplay.from_predictions or ConfusionMatrixDisplay.from_estimator.\n",
      "  warnings.warn(msg, category=FutureWarning)\n"
     ]
    },
    {
     "data": {
      "image/png": "[encoded data removed]",
      "text/plain": [
       "<Figure size 432x288 with 2 Axes>"
      ]
     },
     "metadata": {
      "needs_background": "light"
     },
     "output_type": "display_data"
    }
   ],
   "source": [
    "plot_confusion_matrix(dtclf, X_test_enn, y_test_enn)\n",
    "plt.show()"
   ]
  },
  {
   "cell_type": "code",
   "execution_count": 61,
   "id": "f04881a0",
   "metadata": {},
   "outputs": [],
   "source": [
    "rfclf= RandomForestClassifier(max_depth = 8, max_features= 25, n_estimators= 100,class_weight= {0:1,1:6.1})\n",
    "rfclf= rfclf.fit(X_train_enn,y_train_enn)"
   ]
  },
  {
   "cell_type": "code",
   "execution_count": 62,
   "id": "262b6d1b",
   "metadata": {},
   "outputs": [
    {
     "name": "stdout",
     "output_type": "stream",
     "text": [
      "0.9690454406831351\n",
      "              precision    recall  f1-score   support\n",
      "\n",
      "           0       0.99      0.97      0.98      5671\n",
      "           1       0.84      0.95      0.89       887\n",
      "\n",
      "    accuracy                           0.97      6558\n",
      "   macro avg       0.92      0.96      0.94      6558\n",
      "weighted avg       0.97      0.97      0.97      6558\n",
      "\n"
     ]
    }
   ],
   "source": [
    "y_pred_enn = rfclf.predict(X_test_enn)\n",
    "print(accuracy_score(y_test_enn,y_pred_enn))\n",
    "print(classification_report(y_test_enn, y_pred_enn))"
   ]
  },
  {
   "cell_type": "code",
   "execution_count": 99,
   "id": "91bfce36",
   "metadata": {},
   "outputs": [
    {
     "name": "stderr",
     "output_type": "stream",
     "text": [
      "C:\\Users\\Abhishek\\AppData\\Local\\Packages\\PythonSoftwareFoundation.Python.3.10_qbz5n2kfra8p0\\LocalCache\\local-packages\\Python310\\site-packages\\sklearn\\utils\\deprecation.py:87: FutureWarning: Function plot_confusion_matrix is deprecated; Function `plot_confusion_matrix` is deprecated in 1.0 and will be removed in 1.2. Use one of the class methods: ConfusionMatrixDisplay.from_predictions or ConfusionMatrixDisplay.from_estimator.\n",
      "  warnings.warn(msg, category=FutureWarning)\n"
     ]
    },
    {
     "data": {
      "image/png": "[encoded data removed]",
      "text/plain": [
       "<Figure size 432x288 with 2 Axes>"
      ]
     },
     "metadata": {
      "needs_background": "light"
     },
     "output_type": "display_data"
    }
   ],
   "source": [
    "plot_confusion_matrix(rfclf, X_test_enn, y_test_enn)\n",
    "plt.show()"
   ]
  },
  {
   "cell_type": "code",
   "execution_count": 90,
   "id": "6fdf9cca",
   "metadata": {},
   "outputs": [],
   "source": [
    "nbclf = GaussianNB()\n",
    "nbclf = nbclf.fit(X_train_enn, y_train_enn)"
   ]
  },
  {
   "cell_type": "code",
   "execution_count": 91,
   "id": "2da4f1b7",
   "metadata": {},
   "outputs": [
    {
     "name": "stdout",
     "output_type": "stream",
     "text": [
      "0.9326014028667277\n",
      "              precision    recall  f1-score   support\n",
      "\n",
      "           0       0.94      0.98      0.96      5671\n",
      "           1       0.84      0.62      0.71       887\n",
      "\n",
      "    accuracy                           0.93      6558\n",
      "   macro avg       0.89      0.80      0.84      6558\n",
      "weighted avg       0.93      0.93      0.93      6558\n",
      "\n"
     ]
    }
   ],
   "source": [
    "y_pred_enn = nbclf.predict(X_test_enn)\n",
    "print(accuracy_score(y_test_enn,y_pred_enn))\n",
    "print(classification_report(y_test_enn, y_pred_enn))"
   ]
  },
  {
   "cell_type": "code",
   "execution_count": 100,
   "id": "3687e7e6",
   "metadata": {},
   "outputs": [
    {
     "name": "stderr",
     "output_type": "stream",
     "text": [
      "C:\\Users\\Abhishek\\AppData\\Local\\Packages\\PythonSoftwareFoundation.Python.3.10_qbz5n2kfra8p0\\LocalCache\\local-packages\\Python310\\site-packages\\sklearn\\utils\\deprecation.py:87: FutureWarning: Function plot_confusion_matrix is deprecated; Function `plot_confusion_matrix` is deprecated in 1.0 and will be removed in 1.2. Use one of the class methods: ConfusionMatrixDisplay.from_predictions or ConfusionMatrixDisplay.from_estimator.\n",
      "  warnings.warn(msg, category=FutureWarning)\n"
     ]
    },
    {
     "data": {
      "image/png": "[encoded data removed]",
      "text/plain": [
       "<Figure size 432x288 with 2 Axes>"
      ]
     },
     "metadata": {
      "needs_background": "light"
     },
     "output_type": "display_data"
    }
   ],
   "source": [
    "plot_confusion_matrix(nbclf, X_test_enn, y_test_enn)\n",
    "plt.show()"
   ]
  },
  {
   "cell_type": "markdown",
   "id": "febe1b64",
   "metadata": {},
   "source": [
    "## Condensed Nearest Neighbour"
   ]
  },
  {
   "cell_type": "code",
   "execution_count": 76,
   "id": "e09b5f3d",
   "metadata": {},
   "outputs": [],
   "source": [
    "undersample_cnn = CondensedNearestNeighbour(n_neighbors=10)"
   ]
  },
  {
   "cell_type": "code",
   "execution_count": 77,
   "id": "cd9cdb92",
   "metadata": {},
   "outputs": [
    {
     "name": "stdout",
     "output_type": "stream",
     "text": [
      "CPU times: total: 9h 30min 16s\n",
      "Wall time: 2h 26min 45s\n"
     ]
    }
   ],
   "source": [
    "%%time\n",
    "X_cnn, y_cnn = undersample_cnn.fit_resample(df, y)"
   ]
  },
  {
   "cell_type": "code",
   "execution_count": 78,
   "id": "791e9045",
   "metadata": {},
   "outputs": [
    {
     "name": "stdout",
     "output_type": "stream",
     "text": [
      "Counter({1: 4640, 0: 4535})\n"
     ]
    }
   ],
   "source": [
    "cnt = Counter(y_cnn)\n",
    "print(cnt)"
   ]
  },
  {
   "cell_type": "code",
   "execution_count": 79,
   "id": "75c4e9c0",
   "metadata": {},
   "outputs": [],
   "source": [
    "X_train_cnn, X_test_cnn, y_train_cnn, y_test_cnn = train_test_split(X_cnn, y_cnn, test_size = 0.2, random_state = 100)"
   ]
  },
  {
   "cell_type": "code",
   "execution_count": 80,
   "id": "b4a9eeac",
   "metadata": {},
   "outputs": [],
   "source": [
    "dtclf= DecisionTreeClassifier( max_depth = 6, criterion='gini',class_weight= {0:1.1,1:1})\n",
    "dtclf= dtclf.fit(X_train_cnn,y_train_cnn)"
   ]
  },
  {
   "cell_type": "code",
   "execution_count": 81,
   "id": "4cb3c830",
   "metadata": {},
   "outputs": [
    {
     "name": "stdout",
     "output_type": "stream",
     "text": [
      "0.7307901907356948\n",
      "              precision    recall  f1-score   support\n",
      "\n",
      "           0       0.75      0.69      0.71       902\n",
      "           1       0.72      0.77      0.75       933\n",
      "\n",
      "    accuracy                           0.73      1835\n",
      "   macro avg       0.73      0.73      0.73      1835\n",
      "weighted avg       0.73      0.73      0.73      1835\n",
      "\n"
     ]
    }
   ],
   "source": [
    "y_pred_cnn = dtclf.predict(X_test_cnn)\n",
    "print(accuracy_score(y_test_cnn,y_pred_cnn))\n",
    "print(classification_report(y_test_cnn, y_pred_cnn))"
   ]
  },
  {
   "cell_type": "code",
   "execution_count": 82,
   "id": "cd52a976",
   "metadata": {},
   "outputs": [
    {
     "name": "stderr",
     "output_type": "stream",
     "text": [
      "C:\\Users\\Abhishek\\AppData\\Local\\Packages\\PythonSoftwareFoundation.Python.3.10_qbz5n2kfra8p0\\LocalCache\\local-packages\\Python310\\site-packages\\sklearn\\utils\\deprecation.py:87: FutureWarning: Function plot_confusion_matrix is deprecated; Function `plot_confusion_matrix` is deprecated in 1.0 and will be removed in 1.2. Use one of the class methods: ConfusionMatrixDisplay.from_predictions or ConfusionMatrixDisplay.from_estimator.\n",
      "  warnings.warn(msg, category=FutureWarning)\n"
     ]
    },
    {
     "data": {
      "image/png": "[encoded data removed]",
      "text/plain": [
       "<Figure size 432x288 with 2 Axes>"
      ]
     },
     "metadata": {
      "needs_background": "light"
     },
     "output_type": "display_data"
    }
   ],
   "source": [
    "plot_confusion_matrix(dtclf, X_test_cnn, y_test_cnn)\n",
    "plt.show()"
   ]
  },
  {
   "cell_type": "code",
   "execution_count": 83,
   "id": "1784c70b",
   "metadata": {},
   "outputs": [],
   "source": [
    "rfclf= RandomForestClassifier(max_depth = 8, max_features= 25, n_estimators= 100,class_weight= {0:1,1:1})\n",
    "rfclf= rfclf.fit(X_train_cnn,y_train_cnn)"
   ]
  },
  {
   "cell_type": "code",
   "execution_count": 84,
   "id": "3a14bec4",
   "metadata": {},
   "outputs": [
    {
     "name": "stdout",
     "output_type": "stream",
     "text": [
      "0.7340599455040872\n",
      "              precision    recall  f1-score   support\n",
      "\n",
      "           0       0.75      0.69      0.72       902\n",
      "           1       0.72      0.78      0.75       933\n",
      "\n",
      "    accuracy                           0.73      1835\n",
      "   macro avg       0.74      0.73      0.73      1835\n",
      "weighted avg       0.74      0.73      0.73      1835\n",
      "\n"
     ]
    }
   ],
   "source": [
    "y_pred_cnn = rfclf.predict(X_test_cnn)\n",
    "print(accuracy_score(y_test_cnn,y_pred_cnn))\n",
    "print(classification_report(y_test_cnn, y_pred_cnn))"
   ]
  },
  {
   "cell_type": "code",
   "execution_count": 85,
   "id": "4e7c084e",
   "metadata": {},
   "outputs": [
    {
     "name": "stderr",
     "output_type": "stream",
     "text": [
      "C:\\Users\\Abhishek\\AppData\\Local\\Packages\\PythonSoftwareFoundation.Python.3.10_qbz5n2kfra8p0\\LocalCache\\local-packages\\Python310\\site-packages\\sklearn\\utils\\deprecation.py:87: FutureWarning: Function plot_confusion_matrix is deprecated; Function `plot_confusion_matrix` is deprecated in 1.0 and will be removed in 1.2. Use one of the class methods: ConfusionMatrixDisplay.from_predictions or ConfusionMatrixDisplay.from_estimator.\n",
      "  warnings.warn(msg, category=FutureWarning)\n"
     ]
    },
    {
     "data": {
      "image/png": "[encoded data removed]",
      "text/plain": [
       "<Figure size 432x288 with 2 Axes>"
      ]
     },
     "metadata": {
      "needs_background": "light"
     },
     "output_type": "display_data"
    }
   ],
   "source": [
    "plot_confusion_matrix(rfclf, X_test_cnn, y_test_cnn)\n",
    "plt.show()"
   ]
  },
  {
   "cell_type": "code",
   "execution_count": 86,
   "id": "96a283c3",
   "metadata": {},
   "outputs": [],
   "source": [
    "nbclf = GaussianNB()\n",
    "nbclf = nbclf.fit(X_train_cnn, y_train_cnn)"
   ]
  },
  {
   "cell_type": "code",
   "execution_count": 87,
   "id": "b4da1573",
   "metadata": {},
   "outputs": [
    {
     "name": "stdout",
     "output_type": "stream",
     "text": [
      "0.6016348773841962\n",
      "              precision    recall  f1-score   support\n",
      "\n",
      "           0       0.57      0.76      0.65       902\n",
      "           1       0.66      0.45      0.53       933\n",
      "\n",
      "    accuracy                           0.60      1835\n",
      "   macro avg       0.62      0.60      0.59      1835\n",
      "weighted avg       0.62      0.60      0.59      1835\n",
      "\n"
     ]
    }
   ],
   "source": [
    "y_pred_cnn = nbclf.predict(X_test_cnn)\n",
    "print(accuracy_score(y_test_cnn,y_pred_cnn))\n",
    "print(classification_report(y_test_cnn, y_pred_cnn))"
   ]
  },
  {
   "cell_type": "code",
   "execution_count": 88,
   "id": "5e7a48eb",
   "metadata": {
    "scrolled": true
   },
   "outputs": [
    {
     "name": "stderr",
     "output_type": "stream",
     "text": [
      "C:\\Users\\Abhishek\\AppData\\Local\\Packages\\PythonSoftwareFoundation.Python.3.10_qbz5n2kfra8p0\\LocalCache\\local-packages\\Python310\\site-packages\\sklearn\\utils\\deprecation.py:87: FutureWarning: Function plot_confusion_matrix is deprecated; Function `plot_confusion_matrix` is deprecated in 1.0 and will be removed in 1.2. Use one of the class methods: ConfusionMatrixDisplay.from_predictions or ConfusionMatrixDisplay.from_estimator.\n",
      "  warnings.warn(msg, category=FutureWarning)\n"
     ]
    },
    {
     "data": {
      "image/png": "[encoded data removed]",
      "text/plain": [
       "<Figure size 432x288 with 2 Axes>"
      ]
     },
     "metadata": {
      "needs_background": "light"
     },
     "output_type": "display_data"
    }
   ],
   "source": [
    "plot_confusion_matrix(nbclf, X_test_cnn, y_test_cnn)\n",
    "plt.show()"
   ]
  },
  {
   "cell_type": "markdown",
   "id": "0ed2f66b",
   "metadata": {},
   "source": [
    "## Tomek Links"
   ]
  },
  {
   "cell_type": "code",
   "execution_count": 104,
   "id": "268cc212",
   "metadata": {},
   "outputs": [],
   "source": [
    "undersample_tl = TomekLinks()"
   ]
  },
  {
   "cell_type": "code",
   "execution_count": 105,
   "id": "4981951d",
   "metadata": {},
   "outputs": [
    {
     "name": "stdout",
     "output_type": "stream",
     "text": [
      "CPU times: total: 20.2 s\n",
      "Wall time: 3.49 s\n"
     ]
    }
   ],
   "source": [
    "%%time\n",
    "X_tl, y_tl = undersample.fit_resample(df, y)"
   ]
  },
  {
   "cell_type": "code",
   "execution_count": 106,
   "id": "a84fe61f",
   "metadata": {},
   "outputs": [
    {
     "name": "stdout",
     "output_type": "stream",
     "text": [
      "Counter({0: 28148, 1: 4640})\n"
     ]
    }
   ],
   "source": [
    "cnt_tl = Counter(y_tl)\n",
    "print(cnt_tl)"
   ]
  },
  {
   "cell_type": "code",
   "execution_count": 108,
   "id": "91bd6f66",
   "metadata": {},
   "outputs": [],
   "source": [
    "X_train_tl, X_test_tl, y_train_tl, y_test_tl = train_test_split(X_cnn, y_cnn, test_size = 0.2, random_state = 100)"
   ]
  },
  {
   "cell_type": "code",
   "execution_count": 109,
   "id": "7463afb5",
   "metadata": {},
   "outputs": [],
   "source": [
    "dtclf= DecisionTreeClassifier( max_depth = 6, criterion='gini',class_weight= {0:1.1,1:5})\n",
    "dtclf= dtclf.fit(X_train_tl,y_train_tl)"
   ]
  },
  {
   "cell_type": "code",
   "execution_count": 110,
   "id": "0498a0b4",
   "metadata": {},
   "outputs": [
    {
     "name": "stdout",
     "output_type": "stream",
     "text": [
      "0.6544959128065395\n",
      "              precision    recall  f1-score   support\n",
      "\n",
      "           0       0.89      0.34      0.49       902\n",
      "           1       0.60      0.96      0.74       933\n",
      "\n",
      "    accuracy                           0.65      1835\n",
      "   macro avg       0.75      0.65      0.61      1835\n",
      "weighted avg       0.74      0.65      0.62      1835\n",
      "\n"
     ]
    }
   ],
   "source": [
    "y_pred_tl = dtclf.predict(X_test_tl)\n",
    "print(accuracy_score(y_test_tl,y_pred_tl))\n",
    "print(classification_report(y_test_tl, y_pred_tl))"
   ]
  },
  {
   "cell_type": "code",
   "execution_count": 123,
   "id": "68946c31",
   "metadata": {},
   "outputs": [
    {
     "name": "stderr",
     "output_type": "stream",
     "text": [
      "C:\\Users\\Abhishek\\AppData\\Local\\Packages\\PythonSoftwareFoundation.Python.3.10_qbz5n2kfra8p0\\LocalCache\\local-packages\\Python310\\site-packages\\sklearn\\utils\\deprecation.py:87: FutureWarning: Function plot_confusion_matrix is deprecated; Function `plot_confusion_matrix` is deprecated in 1.0 and will be removed in 1.2. Use one of the class methods: ConfusionMatrixDisplay.from_predictions or ConfusionMatrixDisplay.from_estimator.\n",
      "  warnings.warn(msg, category=FutureWarning)\n"
     ]
    },
    {
     "data": {
      "image/png": "[encoded data removed]",
      "text/plain": [
       "<Figure size 432x288 with 2 Axes>"
      ]
     },
     "metadata": {
      "needs_background": "light"
     },
     "output_type": "display_data"
    }
   ],
   "source": [
    "plot_confusion_matrix(dtclf, X_test_tl, y_test_tl)\n",
    "plt.show()"
   ]
  },
  {
   "cell_type": "code",
   "execution_count": 117,
   "id": "e35872af",
   "metadata": {},
   "outputs": [],
   "source": [
    "rfclf= RandomForestClassifier(max_depth = 10, max_features= 25, n_estimators= 100,class_weight= {0:1,1:5})\n",
    "rfclf= rfclf.fit(X_train_tl,y_train_tl)"
   ]
  },
  {
   "cell_type": "code",
   "execution_count": 118,
   "id": "789fe50f",
   "metadata": {},
   "outputs": [
    {
     "name": "stdout",
     "output_type": "stream",
     "text": [
      "0.6931880108991826\n",
      "              precision    recall  f1-score   support\n",
      "\n",
      "           0       0.86      0.45      0.59       902\n",
      "           1       0.64      0.93      0.76       933\n",
      "\n",
      "    accuracy                           0.69      1835\n",
      "   macro avg       0.75      0.69      0.67      1835\n",
      "weighted avg       0.75      0.69      0.67      1835\n",
      "\n"
     ]
    }
   ],
   "source": [
    "y_pred_tl = rfclf.predict(X_test_tl)\n",
    "print(accuracy_score(y_test_tl,y_pred_tl))\n",
    "print(classification_report(y_test_tl, y_pred_tl))"
   ]
  },
  {
   "cell_type": "code",
   "execution_count": 122,
   "id": "c6524c3e",
   "metadata": {},
   "outputs": [
    {
     "name": "stderr",
     "output_type": "stream",
     "text": [
      "C:\\Users\\Abhishek\\AppData\\Local\\Packages\\PythonSoftwareFoundation.Python.3.10_qbz5n2kfra8p0\\LocalCache\\local-packages\\Python310\\site-packages\\sklearn\\utils\\deprecation.py:87: FutureWarning: Function plot_confusion_matrix is deprecated; Function `plot_confusion_matrix` is deprecated in 1.0 and will be removed in 1.2. Use one of the class methods: ConfusionMatrixDisplay.from_predictions or ConfusionMatrixDisplay.from_estimator.\n",
      "  warnings.warn(msg, category=FutureWarning)\n"
     ]
    },
    {
     "data": {
      "image/png": "[encoded data removed]",
      "text/plain": [
       "<Figure size 432x288 with 2 Axes>"
      ]
     },
     "metadata": {
      "needs_background": "light"
     },
     "output_type": "display_data"
    }
   ],
   "source": [
    "plot_confusion_matrix(rfclf, X_test_tl, y_test_tl)\n",
    "plt.show()"
   ]
  },
  {
   "cell_type": "code",
   "execution_count": 119,
   "id": "d8536607",
   "metadata": {},
   "outputs": [],
   "source": [
    "nbclf = GaussianNB()\n",
    "nbclf = nbclf.fit(X_train_tl, y_train_tl)"
   ]
  },
  {
   "cell_type": "code",
   "execution_count": 120,
   "id": "e6ea6232",
   "metadata": {},
   "outputs": [
    {
     "name": "stdout",
     "output_type": "stream",
     "text": [
      "0.6016348773841962\n",
      "              precision    recall  f1-score   support\n",
      "\n",
      "           0       0.57      0.76      0.65       902\n",
      "           1       0.66      0.45      0.53       933\n",
      "\n",
      "    accuracy                           0.60      1835\n",
      "   macro avg       0.62      0.60      0.59      1835\n",
      "weighted avg       0.62      0.60      0.59      1835\n",
      "\n"
     ]
    }
   ],
   "source": [
    "y_pred_tl = nbclf.predict(X_test_tl)\n",
    "print(accuracy_score(y_test_tl,y_pred_tl))\n",
    "print(classification_report(y_test_tl, y_pred_tl))"
   ]
  },
  {
   "cell_type": "code",
   "execution_count": 121,
   "id": "d2af839d",
   "metadata": {
    "scrolled": true
   },
   "outputs": [
    {
     "name": "stderr",
     "output_type": "stream",
     "text": [
      "C:\\Users\\Abhishek\\AppData\\Local\\Packages\\PythonSoftwareFoundation.Python.3.10_qbz5n2kfra8p0\\LocalCache\\local-packages\\Python310\\site-packages\\sklearn\\utils\\deprecation.py:87: FutureWarning: Function plot_confusion_matrix is deprecated; Function `plot_confusion_matrix` is deprecated in 1.0 and will be removed in 1.2. Use one of the class methods: ConfusionMatrixDisplay.from_predictions or ConfusionMatrixDisplay.from_estimator.\n",
      "  warnings.warn(msg, category=FutureWarning)\n"
     ]
    },
    {
     "data": {
      "image/png": "[encoded data removed]",
      "text/plain": [
       "<Figure size 432x288 with 2 Axes>"
      ]
     },
     "metadata": {
      "needs_background": "light"
     },
     "output_type": "display_data"
    }
   ],
   "source": [
    "plot_confusion_matrix(nbclf, X_test_tl, y_test_tl)\n",
    "plt.show()"
   ]
  },
  {
   "cell_type": "code",
   "execution_count": null,
   "id": "1172f740",
   "metadata": {},
   "outputs": [],
   "source": []
  }
 ],
 "metadata": {
  "kernelspec": {
   "display_name": "Python 3 (ipykernel)",
   "language": "python",
   "name": "python3"
  },
  "language_info": {
   "codemirror_mode": {
    "name": "ipython",
    "version": 3
   },
   "file_extension": ".py",
   "mimetype": "text/x-python",
   "name": "python",
   "nbconvert_exporter": "python",
   "pygments_lexer": "ipython3",
   "version": "3.10.4"
  }
 },
 "nbformat": 4,
 "nbformat_minor": 5
}
